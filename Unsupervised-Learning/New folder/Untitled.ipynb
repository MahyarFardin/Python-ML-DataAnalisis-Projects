{
 "cells": [
  {
   "cell_type": "code",
   "execution_count": 1,
   "id": "f1c31c91",
   "metadata": {},
   "outputs": [],
   "source": [
    "import pandas as pd\n",
    "import seaborn as sns\n",
    "import matplotlib.pyplot as plt\n",
    "%matplotlib inline"
   ]
  },
  {
   "cell_type": "code",
   "execution_count": 2,
   "id": "f2eb24e0",
   "metadata": {},
   "outputs": [],
   "source": [
    "df=pd.read_csv(\"8358_1.csv\")"
   ]
  },
  {
   "cell_type": "code",
   "execution_count": 3,
   "id": "0a7f5831",
   "metadata": {},
   "outputs": [
    {
     "data": {
      "text/html": [
       "<div>\n",
       "<style scoped>\n",
       "    .dataframe tbody tr th:only-of-type {\n",
       "        vertical-align: middle;\n",
       "    }\n",
       "\n",
       "    .dataframe tbody tr th {\n",
       "        vertical-align: top;\n",
       "    }\n",
       "\n",
       "    .dataframe thead th {\n",
       "        text-align: right;\n",
       "    }\n",
       "</style>\n",
       "<table border=\"1\" class=\"dataframe\">\n",
       "  <thead>\n",
       "    <tr style=\"text-align: right;\">\n",
       "      <th></th>\n",
       "      <th>id</th>\n",
       "      <th>address</th>\n",
       "      <th>categories</th>\n",
       "      <th>city</th>\n",
       "      <th>country</th>\n",
       "      <th>keys</th>\n",
       "      <th>latitude</th>\n",
       "      <th>longitude</th>\n",
       "      <th>menuPageURL</th>\n",
       "      <th>menus.amountMax</th>\n",
       "      <th>...</th>\n",
       "      <th>menus.currency</th>\n",
       "      <th>menus.dateSeen</th>\n",
       "      <th>menus.description</th>\n",
       "      <th>menus.name</th>\n",
       "      <th>name</th>\n",
       "      <th>postalCode</th>\n",
       "      <th>priceRangeCurrency</th>\n",
       "      <th>priceRangeMin</th>\n",
       "      <th>priceRangeMax</th>\n",
       "      <th>province</th>\n",
       "    </tr>\n",
       "  </thead>\n",
       "  <tbody>\n",
       "    <tr>\n",
       "      <th>0</th>\n",
       "      <td>AVwc_6KEIN2L1WUfrKAH</td>\n",
       "      <td>Cascade Village Mall Across From Target</td>\n",
       "      <td>Pizza Place</td>\n",
       "      <td>Bend</td>\n",
       "      <td>US</td>\n",
       "      <td>us/or/bend/cascadevillagemallacrossfromtarget/...</td>\n",
       "      <td>44.102665</td>\n",
       "      <td>-121.300797</td>\n",
       "      <td>NaN</td>\n",
       "      <td>22.50</td>\n",
       "      <td>...</td>\n",
       "      <td>USD</td>\n",
       "      <td>2016-03-31T02:19:42Z</td>\n",
       "      <td>NaN</td>\n",
       "      <td>Bianca Pizza</td>\n",
       "      <td>Little Pizza Paradise</td>\n",
       "      <td>97701</td>\n",
       "      <td>NaN</td>\n",
       "      <td>NaN</td>\n",
       "      <td>NaN</td>\n",
       "      <td>OR</td>\n",
       "    </tr>\n",
       "    <tr>\n",
       "      <th>1</th>\n",
       "      <td>AVwc_6KEIN2L1WUfrKAH</td>\n",
       "      <td>Cascade Village Mall Across From Target</td>\n",
       "      <td>Pizza Place</td>\n",
       "      <td>Bend</td>\n",
       "      <td>US</td>\n",
       "      <td>us/or/bend/cascadevillagemallacrossfromtarget/...</td>\n",
       "      <td>44.102665</td>\n",
       "      <td>-121.300797</td>\n",
       "      <td>NaN</td>\n",
       "      <td>18.95</td>\n",
       "      <td>...</td>\n",
       "      <td>USD</td>\n",
       "      <td>2016-03-31T02:19:42Z</td>\n",
       "      <td>NaN</td>\n",
       "      <td>Cheese Pizza</td>\n",
       "      <td>Little Pizza Paradise</td>\n",
       "      <td>97701</td>\n",
       "      <td>NaN</td>\n",
       "      <td>NaN</td>\n",
       "      <td>NaN</td>\n",
       "      <td>OR</td>\n",
       "    </tr>\n",
       "    <tr>\n",
       "      <th>2</th>\n",
       "      <td>AVwc_6qRByjofQCxkcxw</td>\n",
       "      <td>148 S Barrington Ave</td>\n",
       "      <td>American Restaurant,Bar,Bakery</td>\n",
       "      <td>Los Angeles</td>\n",
       "      <td>US</td>\n",
       "      <td>us/brentwood/losangeles/148sbarringtonave/-151...</td>\n",
       "      <td>34.064563</td>\n",
       "      <td>-118.469017</td>\n",
       "      <td>NaN</td>\n",
       "      <td>12.00</td>\n",
       "      <td>...</td>\n",
       "      <td>USD</td>\n",
       "      <td>2015-10-23T03:57:26Z</td>\n",
       "      <td>NaN</td>\n",
       "      <td>Pizza, Margherita</td>\n",
       "      <td>The Brentwood</td>\n",
       "      <td>90049</td>\n",
       "      <td>USD</td>\n",
       "      <td>50.0</td>\n",
       "      <td>55.0</td>\n",
       "      <td>Brentwood</td>\n",
       "    </tr>\n",
       "    <tr>\n",
       "      <th>3</th>\n",
       "      <td>AVwc_6qRByjofQCxkcxw</td>\n",
       "      <td>148 S Barrington Ave</td>\n",
       "      <td>American Restaurant,Bar,Bakery</td>\n",
       "      <td>Los Angeles</td>\n",
       "      <td>US</td>\n",
       "      <td>us/brentwood/losangeles/148sbarringtonave/-151...</td>\n",
       "      <td>34.064563</td>\n",
       "      <td>-118.469017</td>\n",
       "      <td>NaN</td>\n",
       "      <td>13.00</td>\n",
       "      <td>...</td>\n",
       "      <td>USD</td>\n",
       "      <td>2015-10-23T03:57:26Z</td>\n",
       "      <td>NaN</td>\n",
       "      <td>Pizza, Mushroom</td>\n",
       "      <td>The Brentwood</td>\n",
       "      <td>90049</td>\n",
       "      <td>USD</td>\n",
       "      <td>50.0</td>\n",
       "      <td>55.0</td>\n",
       "      <td>Brentwood</td>\n",
       "    </tr>\n",
       "    <tr>\n",
       "      <th>4</th>\n",
       "      <td>AVwc_6qRByjofQCxkcxw</td>\n",
       "      <td>148 S Barrington Ave</td>\n",
       "      <td>American Restaurant,Bar,Bakery</td>\n",
       "      <td>Los Angeles</td>\n",
       "      <td>US</td>\n",
       "      <td>us/brentwood/losangeles/148sbarringtonave/-151...</td>\n",
       "      <td>34.064563</td>\n",
       "      <td>-118.469017</td>\n",
       "      <td>NaN</td>\n",
       "      <td>13.00</td>\n",
       "      <td>...</td>\n",
       "      <td>USD</td>\n",
       "      <td>2015-10-23T03:57:26Z</td>\n",
       "      <td>Olives, onions, capers, tomatoes</td>\n",
       "      <td>Pizza, Puttenesca</td>\n",
       "      <td>The Brentwood</td>\n",
       "      <td>90049</td>\n",
       "      <td>USD</td>\n",
       "      <td>50.0</td>\n",
       "      <td>55.0</td>\n",
       "      <td>Brentwood</td>\n",
       "    </tr>\n",
       "  </tbody>\n",
       "</table>\n",
       "<p>5 rows × 21 columns</p>\n",
       "</div>"
      ],
      "text/plain": [
       "                     id                                  address  \\\n",
       "0  AVwc_6KEIN2L1WUfrKAH  Cascade Village Mall Across From Target   \n",
       "1  AVwc_6KEIN2L1WUfrKAH  Cascade Village Mall Across From Target   \n",
       "2  AVwc_6qRByjofQCxkcxw                     148 S Barrington Ave   \n",
       "3  AVwc_6qRByjofQCxkcxw                     148 S Barrington Ave   \n",
       "4  AVwc_6qRByjofQCxkcxw                     148 S Barrington Ave   \n",
       "\n",
       "                       categories         city country  \\\n",
       "0                     Pizza Place         Bend      US   \n",
       "1                     Pizza Place         Bend      US   \n",
       "2  American Restaurant,Bar,Bakery  Los Angeles      US   \n",
       "3  American Restaurant,Bar,Bakery  Los Angeles      US   \n",
       "4  American Restaurant,Bar,Bakery  Los Angeles      US   \n",
       "\n",
       "                                                keys   latitude   longitude  \\\n",
       "0  us/or/bend/cascadevillagemallacrossfromtarget/...  44.102665 -121.300797   \n",
       "1  us/or/bend/cascadevillagemallacrossfromtarget/...  44.102665 -121.300797   \n",
       "2  us/brentwood/losangeles/148sbarringtonave/-151...  34.064563 -118.469017   \n",
       "3  us/brentwood/losangeles/148sbarringtonave/-151...  34.064563 -118.469017   \n",
       "4  us/brentwood/losangeles/148sbarringtonave/-151...  34.064563 -118.469017   \n",
       "\n",
       "  menuPageURL  menus.amountMax  ...  menus.currency        menus.dateSeen  \\\n",
       "0         NaN            22.50  ...             USD  2016-03-31T02:19:42Z   \n",
       "1         NaN            18.95  ...             USD  2016-03-31T02:19:42Z   \n",
       "2         NaN            12.00  ...             USD  2015-10-23T03:57:26Z   \n",
       "3         NaN            13.00  ...             USD  2015-10-23T03:57:26Z   \n",
       "4         NaN            13.00  ...             USD  2015-10-23T03:57:26Z   \n",
       "\n",
       "                  menus.description         menus.name                   name  \\\n",
       "0                               NaN       Bianca Pizza  Little Pizza Paradise   \n",
       "1                               NaN       Cheese Pizza  Little Pizza Paradise   \n",
       "2                               NaN  Pizza, Margherita          The Brentwood   \n",
       "3                               NaN    Pizza, Mushroom          The Brentwood   \n",
       "4  Olives, onions, capers, tomatoes  Pizza, Puttenesca          The Brentwood   \n",
       "\n",
       "  postalCode priceRangeCurrency priceRangeMin  priceRangeMax   province  \n",
       "0      97701                NaN           NaN            NaN         OR  \n",
       "1      97701                NaN           NaN            NaN         OR  \n",
       "2      90049                USD          50.0           55.0  Brentwood  \n",
       "3      90049                USD          50.0           55.0  Brentwood  \n",
       "4      90049                USD          50.0           55.0  Brentwood  \n",
       "\n",
       "[5 rows x 21 columns]"
      ]
     },
     "execution_count": 3,
     "metadata": {},
     "output_type": "execute_result"
    }
   ],
   "source": [
    "df.head()"
   ]
  },
  {
   "cell_type": "markdown",
   "id": "6861e0c5",
   "metadata": {},
   "source": [
    "# Preprocessing and Feature engineerin"
   ]
  },
  {
   "cell_type": "code",
   "execution_count": 5,
   "id": "63366fca",
   "metadata": {},
   "outputs": [
    {
     "name": "stdout",
     "output_type": "stream",
     "text": [
      "<class 'pandas.core.frame.DataFrame'>\n",
      "RangeIndex: 3510 entries, 0 to 3509\n",
      "Data columns (total 21 columns):\n",
      " #   Column              Non-Null Count  Dtype  \n",
      "---  ------              --------------  -----  \n",
      " 0   id                  3510 non-null   object \n",
      " 1   address             3510 non-null   object \n",
      " 2   categories          3510 non-null   object \n",
      " 3   city                3510 non-null   object \n",
      " 4   country             3510 non-null   object \n",
      " 5   keys                3510 non-null   object \n",
      " 6   latitude            3510 non-null   float64\n",
      " 7   longitude           3510 non-null   float64\n",
      " 8   menuPageURL         610 non-null    object \n",
      " 9   menus.amountMax     2948 non-null   float64\n",
      " 10  menus.amountMin     2948 non-null   float64\n",
      " 11  menus.currency      2951 non-null   object \n",
      " 12  menus.dateSeen      3510 non-null   object \n",
      " 13  menus.description   1526 non-null   object \n",
      " 14  menus.name          3510 non-null   object \n",
      " 15  name                3510 non-null   object \n",
      " 16  postalCode          3484 non-null   object \n",
      " 17  priceRangeCurrency  1557 non-null   object \n",
      " 18  priceRangeMin       1557 non-null   float64\n",
      " 19  priceRangeMax       1557 non-null   float64\n",
      " 20  province            3510 non-null   object \n",
      "dtypes: float64(6), object(15)\n",
      "memory usage: 576.0+ KB\n"
     ]
    }
   ],
   "source": [
    "df.info()"
   ]
  },
  {
   "cell_type": "markdown",
   "id": "4f0b462c",
   "metadata": {},
   "source": [
    "**this dataset is full of nans lets see how to handel them**"
   ]
  },
  {
   "cell_type": "code",
   "execution_count": 6,
   "id": "17777f65",
   "metadata": {},
   "outputs": [
    {
     "data": {
      "text/plain": [
       "id                       0\n",
       "address                  0\n",
       "categories               0\n",
       "city                     0\n",
       "country                  0\n",
       "keys                     0\n",
       "latitude                 0\n",
       "longitude                0\n",
       "menuPageURL           2900\n",
       "menus.amountMax        562\n",
       "menus.amountMin        562\n",
       "menus.currency         559\n",
       "menus.dateSeen           0\n",
       "menus.description     1984\n",
       "menus.name               0\n",
       "name                     0\n",
       "postalCode              26\n",
       "priceRangeCurrency    1953\n",
       "priceRangeMin         1953\n",
       "priceRangeMax         1953\n",
       "province                 0\n",
       "dtype: int64"
      ]
     },
     "execution_count": 6,
     "metadata": {},
     "output_type": "execute_result"
    }
   ],
   "source": [
    "df.isnull().sum()"
   ]
  },
  {
   "cell_type": "markdown",
   "id": "b2b51f79",
   "metadata": {},
   "source": [
    "**I will drop:**\n",
    "\n",
    "**id and menuepageurl and keys and name since they are useless**\n",
    "\n",
    "**city and country and province since I have longitute and latitude**\n",
    "\n",
    "**also menues date seen sice the data won't effect the clustering(even if prices have chainged It won't matter)**\n",
    "\n",
    "**and menue description since it has a lot of unreplaceable datas**\n",
    "\n",
    "**and postal code(it would be usefull but we have longitude and latitude also it contains characters beside numbers)**"
   ]
  },
  {
   "cell_type": "code",
   "execution_count": 7,
   "id": "3f8aff54",
   "metadata": {},
   "outputs": [],
   "source": [
    "df=df.drop([\"id\",\"address\",\"city\",\"country\",\"keys\",\"menuPageURL\",\"menus.dateSeen\",\"menus.description\",\"province\",\"postalCode\"],axis=1)"
   ]
  },
  {
   "cell_type": "code",
   "execution_count": 8,
   "id": "2917c630",
   "metadata": {},
   "outputs": [
    {
     "name": "stdout",
     "output_type": "stream",
     "text": [
      "<class 'pandas.core.frame.DataFrame'>\n",
      "RangeIndex: 3510 entries, 0 to 3509\n",
      "Data columns (total 11 columns):\n",
      " #   Column              Non-Null Count  Dtype  \n",
      "---  ------              --------------  -----  \n",
      " 0   categories          3510 non-null   object \n",
      " 1   latitude            3510 non-null   float64\n",
      " 2   longitude           3510 non-null   float64\n",
      " 3   menus.amountMax     2948 non-null   float64\n",
      " 4   menus.amountMin     2948 non-null   float64\n",
      " 5   menus.currency      2951 non-null   object \n",
      " 6   menus.name          3510 non-null   object \n",
      " 7   name                3510 non-null   object \n",
      " 8   priceRangeCurrency  1557 non-null   object \n",
      " 9   priceRangeMin       1557 non-null   float64\n",
      " 10  priceRangeMax       1557 non-null   float64\n",
      "dtypes: float64(6), object(5)\n",
      "memory usage: 301.8+ KB\n"
     ]
    }
   ],
   "source": [
    "df.info()"
   ]
  },
  {
   "cell_type": "code",
   "execution_count": 9,
   "id": "e7f9be15",
   "metadata": {},
   "outputs": [
    {
     "data": {
      "text/plain": [
       "561"
      ]
     },
     "execution_count": 9,
     "metadata": {},
     "output_type": "execute_result"
    }
   ],
   "source": [
    "len(list(df[\"categories\"].unique()))"
   ]
  },
  {
   "cell_type": "markdown",
   "id": "f682435a",
   "metadata": {},
   "source": [
    "**I will drop those columns which have a lot of unique labels**"
   ]
  },
  {
   "cell_type": "code",
   "execution_count": 10,
   "id": "b1009bf7",
   "metadata": {},
   "outputs": [],
   "source": [
    "df=df.drop(\"categories\",axis=1)"
   ]
  },
  {
   "cell_type": "code",
   "execution_count": 11,
   "id": "92de64dd",
   "metadata": {},
   "outputs": [
    {
     "data": {
      "text/plain": [
       "USD    2951\n",
       "Name: menus.currency, dtype: int64"
      ]
     },
     "execution_count": 11,
     "metadata": {},
     "output_type": "execute_result"
    }
   ],
   "source": [
    "df[\"menus.currency\"].value_counts()"
   ]
  },
  {
   "cell_type": "markdown",
   "id": "d81e87f3",
   "metadata": {},
   "source": [
    "**since all of them are the same I will drop it**"
   ]
  },
  {
   "cell_type": "code",
   "execution_count": 12,
   "id": "619813b8",
   "metadata": {},
   "outputs": [],
   "source": [
    "df=df.drop(\"menus.currency\",axis=1)"
   ]
  },
  {
   "cell_type": "code",
   "execution_count": 13,
   "id": "3f261a66",
   "metadata": {},
   "outputs": [
    {
     "data": {
      "text/plain": [
       "1598"
      ]
     },
     "execution_count": 13,
     "metadata": {},
     "output_type": "execute_result"
    }
   ],
   "source": [
    "len(list(df[\"menus.name\"].unique()))"
   ]
  },
  {
   "cell_type": "code",
   "execution_count": 14,
   "id": "bdf38f21",
   "metadata": {},
   "outputs": [],
   "source": [
    "df=df.drop(\"menus.name\",axis=1)"
   ]
  },
  {
   "cell_type": "code",
   "execution_count": 15,
   "id": "88260ecb",
   "metadata": {},
   "outputs": [
    {
     "data": {
      "text/plain": [
       "933"
      ]
     },
     "execution_count": 15,
     "metadata": {},
     "output_type": "execute_result"
    }
   ],
   "source": [
    "len(list(df[\"name\"].unique()))"
   ]
  },
  {
   "cell_type": "code",
   "execution_count": 16,
   "id": "5afe9a42",
   "metadata": {},
   "outputs": [],
   "source": [
    "df=df.drop(\"name\",axis=1)"
   ]
  },
  {
   "cell_type": "code",
   "execution_count": 17,
   "id": "7c741c38",
   "metadata": {},
   "outputs": [
    {
     "data": {
      "text/plain": [
       "USD    1557\n",
       "Name: priceRangeCurrency, dtype: int64"
      ]
     },
     "execution_count": 17,
     "metadata": {},
     "output_type": "execute_result"
    }
   ],
   "source": [
    "df[\"priceRangeCurrency\"].value_counts()"
   ]
  },
  {
   "cell_type": "code",
   "execution_count": 18,
   "id": "8d3e66aa",
   "metadata": {},
   "outputs": [],
   "source": [
    "df=df.drop(\"priceRangeCurrency\",axis=1)"
   ]
  },
  {
   "cell_type": "code",
   "execution_count": 19,
   "id": "fe1f2195",
   "metadata": {},
   "outputs": [
    {
     "name": "stdout",
     "output_type": "stream",
     "text": [
      "<class 'pandas.core.frame.DataFrame'>\n",
      "RangeIndex: 3510 entries, 0 to 3509\n",
      "Data columns (total 6 columns):\n",
      " #   Column           Non-Null Count  Dtype  \n",
      "---  ------           --------------  -----  \n",
      " 0   latitude         3510 non-null   float64\n",
      " 1   longitude        3510 non-null   float64\n",
      " 2   menus.amountMax  2948 non-null   float64\n",
      " 3   menus.amountMin  2948 non-null   float64\n",
      " 4   priceRangeMin    1557 non-null   float64\n",
      " 5   priceRangeMax    1557 non-null   float64\n",
      "dtypes: float64(6)\n",
      "memory usage: 164.7 KB\n"
     ]
    }
   ],
   "source": [
    "df.info()"
   ]
  },
  {
   "cell_type": "markdown",
   "id": "433a195e",
   "metadata": {},
   "source": [
    "**In order to find and replace nans of price range min and max I should search the realtion in a correlation**"
   ]
  },
  {
   "cell_type": "code",
   "execution_count": 20,
   "id": "18171dd7",
   "metadata": {},
   "outputs": [
    {
     "data": {
      "text/plain": [
       "<AxesSubplot:>"
      ]
     },
     "execution_count": 20,
     "metadata": {},
     "output_type": "execute_result"
    },
    {
     "data": {
      "image/png": "[encoded data removed]",
      "text/plain": [
       "<Figure size 432x288 with 2 Axes>"
      ]
     },
     "metadata": {
      "needs_background": "light"
     },
     "output_type": "display_data"
    }
   ],
   "source": [
    "sns.heatmap(df.corr(),annot=True)"
   ]
  },
  {
   "cell_type": "code",
   "execution_count": 21,
   "id": "2b397f51",
   "metadata": {},
   "outputs": [
    {
     "data": {
      "text/plain": [
       "<AxesSubplot:>"
      ]
     },
     "execution_count": 21,
     "metadata": {},
     "output_type": "execute_result"
    },
    {
     "data": {
      "image/png": "[encoded data removed]",
      "text/plain": [
       "<Figure size 432x288 with 2 Axes>"
      ]
     },
     "metadata": {
      "needs_background": "light"
     },
     "output_type": "display_data"
    }
   ],
   "source": [
    "sns.heatmap(df.isnull(),cmap=\"plasma\")"
   ]
  },
  {
   "cell_type": "markdown",
   "id": "0329fd57",
   "metadata": {},
   "source": [
    "**there is lots of missing values I have to drop them**\n",
    "**I dont have enough data for knn to predict them most of them are missing values**"
   ]
  },
  {
   "cell_type": "code",
   "execution_count": 22,
   "id": "d797d5fd",
   "metadata": {},
   "outputs": [],
   "source": [
    "df=df.dropna()"
   ]
  },
  {
   "cell_type": "code",
   "execution_count": 23,
   "id": "66ac5778",
   "metadata": {},
   "outputs": [
    {
     "name": "stdout",
     "output_type": "stream",
     "text": [
      "<class 'pandas.core.frame.DataFrame'>\n",
      "Int64Index: 1273 entries, 2 to 3508\n",
      "Data columns (total 6 columns):\n",
      " #   Column           Non-Null Count  Dtype  \n",
      "---  ------           --------------  -----  \n",
      " 0   latitude         1273 non-null   float64\n",
      " 1   longitude        1273 non-null   float64\n",
      " 2   menus.amountMax  1273 non-null   float64\n",
      " 3   menus.amountMin  1273 non-null   float64\n",
      " 4   priceRangeMin    1273 non-null   float64\n",
      " 5   priceRangeMax    1273 non-null   float64\n",
      "dtypes: float64(6)\n",
      "memory usage: 69.6 KB\n"
     ]
    }
   ],
   "source": [
    "df.info()"
   ]
  },
  {
   "cell_type": "code",
   "execution_count": 24,
   "id": "0086dacb",
   "metadata": {},
   "outputs": [
    {
     "data": {
      "text/html": [
       "<div>\n",
       "<style scoped>\n",
       "    .dataframe tbody tr th:only-of-type {\n",
       "        vertical-align: middle;\n",
       "    }\n",
       "\n",
       "    .dataframe tbody tr th {\n",
       "        vertical-align: top;\n",
       "    }\n",
       "\n",
       "    .dataframe thead th {\n",
       "        text-align: right;\n",
       "    }\n",
       "</style>\n",
       "<table border=\"1\" class=\"dataframe\">\n",
       "  <thead>\n",
       "    <tr style=\"text-align: right;\">\n",
       "      <th></th>\n",
       "      <th>latitude</th>\n",
       "      <th>longitude</th>\n",
       "      <th>menus.amountMax</th>\n",
       "      <th>menus.amountMin</th>\n",
       "      <th>priceRangeMin</th>\n",
       "      <th>priceRangeMax</th>\n",
       "    </tr>\n",
       "  </thead>\n",
       "  <tbody>\n",
       "    <tr>\n",
       "      <th>count</th>\n",
       "      <td>1273.000000</td>\n",
       "      <td>1273.000000</td>\n",
       "      <td>1273.000000</td>\n",
       "      <td>1273.000000</td>\n",
       "      <td>1273.000000</td>\n",
       "      <td>1273.000000</td>\n",
       "    </tr>\n",
       "    <tr>\n",
       "      <th>mean</th>\n",
       "      <td>38.760052</td>\n",
       "      <td>-88.897909</td>\n",
       "      <td>13.019026</td>\n",
       "      <td>11.561642</td>\n",
       "      <td>15.699921</td>\n",
       "      <td>36.442262</td>\n",
       "    </tr>\n",
       "    <tr>\n",
       "      <th>std</th>\n",
       "      <td>4.508782</td>\n",
       "      <td>17.747033</td>\n",
       "      <td>18.974375</td>\n",
       "      <td>8.638721</td>\n",
       "      <td>18.522326</td>\n",
       "      <td>21.743502</td>\n",
       "    </tr>\n",
       "    <tr>\n",
       "      <th>min</th>\n",
       "      <td>18.411826</td>\n",
       "      <td>-157.829139</td>\n",
       "      <td>0.350000</td>\n",
       "      <td>0.350000</td>\n",
       "      <td>0.000000</td>\n",
       "      <td>12.000000</td>\n",
       "    </tr>\n",
       "    <tr>\n",
       "      <th>25%</th>\n",
       "      <td>36.101983</td>\n",
       "      <td>-97.366614</td>\n",
       "      <td>7.990000</td>\n",
       "      <td>7.990000</td>\n",
       "      <td>0.000000</td>\n",
       "      <td>30.000000</td>\n",
       "    </tr>\n",
       "    <tr>\n",
       "      <th>50%</th>\n",
       "      <td>40.140363</td>\n",
       "      <td>-81.363427</td>\n",
       "      <td>11.950000</td>\n",
       "      <td>10.990000</td>\n",
       "      <td>25.000000</td>\n",
       "      <td>40.000000</td>\n",
       "    </tr>\n",
       "    <tr>\n",
       "      <th>75%</th>\n",
       "      <td>41.261384</td>\n",
       "      <td>-74.254118</td>\n",
       "      <td>15.000000</td>\n",
       "      <td>14.000000</td>\n",
       "      <td>25.000000</td>\n",
       "      <td>40.000000</td>\n",
       "    </tr>\n",
       "    <tr>\n",
       "      <th>max</th>\n",
       "      <td>48.083900</td>\n",
       "      <td>-66.024871</td>\n",
       "      <td>312.950000</td>\n",
       "      <td>118.990000</td>\n",
       "      <td>347.000000</td>\n",
       "      <td>666.000000</td>\n",
       "    </tr>\n",
       "  </tbody>\n",
       "</table>\n",
       "</div>"
      ],
      "text/plain": [
       "          latitude    longitude  menus.amountMax  menus.amountMin  \\\n",
       "count  1273.000000  1273.000000      1273.000000      1273.000000   \n",
       "mean     38.760052   -88.897909        13.019026        11.561642   \n",
       "std       4.508782    17.747033        18.974375         8.638721   \n",
       "min      18.411826  -157.829139         0.350000         0.350000   \n",
       "25%      36.101983   -97.366614         7.990000         7.990000   \n",
       "50%      40.140363   -81.363427        11.950000        10.990000   \n",
       "75%      41.261384   -74.254118        15.000000        14.000000   \n",
       "max      48.083900   -66.024871       312.950000       118.990000   \n",
       "\n",
       "       priceRangeMin  priceRangeMax  \n",
       "count    1273.000000    1273.000000  \n",
       "mean       15.699921      36.442262  \n",
       "std        18.522326      21.743502  \n",
       "min         0.000000      12.000000  \n",
       "25%         0.000000      30.000000  \n",
       "50%        25.000000      40.000000  \n",
       "75%        25.000000      40.000000  \n",
       "max       347.000000     666.000000  "
      ]
     },
     "execution_count": 24,
     "metadata": {},
     "output_type": "execute_result"
    }
   ],
   "source": [
    "df.describe()"
   ]
  },
  {
   "cell_type": "markdown",
   "id": "40846ecf",
   "metadata": {},
   "source": [
    "# PCA"
   ]
  },
  {
   "cell_type": "code",
   "execution_count": 37,
   "id": "72bcfe1f",
   "metadata": {},
   "outputs": [],
   "source": [
    "from sklearn.decomposition import PCA"
   ]
  },
  {
   "cell_type": "code",
   "execution_count": 41,
   "id": "a792483a",
   "metadata": {},
   "outputs": [],
   "source": [
    "pca=PCA(2)"
   ]
  },
  {
   "cell_type": "code",
   "execution_count": 42,
   "id": "8ef1072b",
   "metadata": {},
   "outputs": [],
   "source": [
    "df_pca=pd.DataFrame(pca.fit_transform(df))"
   ]
  },
  {
   "cell_type": "code",
   "execution_count": 43,
   "id": "d3074ae1",
   "metadata": {},
   "outputs": [
    {
     "name": "stderr",
     "output_type": "stream",
     "text": [
      "C:\\Users\\mahyar_fardin\\anaconda3\\lib\\site-packages\\seaborn\\_decorators.py:36: FutureWarning: Pass the following variables as keyword args: x, y. From version 0.12, the only valid positional argument will be `data`, and passing other arguments without an explicit keyword will result in an error or misinterpretation.\n",
      "  warnings.warn(\n"
     ]
    },
    {
     "data": {
      "text/plain": [
       "<AxesSubplot:xlabel='0', ylabel='1'>"
      ]
     },
     "execution_count": 43,
     "metadata": {},
     "output_type": "execute_result"
    },
    {
     "data": {
      "image/png": "[encoded data removed]",
      "text/plain": [
       "<Figure size 432x288 with 1 Axes>"
      ]
     },
     "metadata": {
      "needs_background": "light"
     },
     "output_type": "display_data"
    }
   ],
   "source": [
    "sns.scatterplot(df_pca[0],df_pca[1])"
   ]
  },
  {
   "cell_type": "markdown",
   "id": "f563685c",
   "metadata": {},
   "source": [
    "**those points are missing values let's dropt them**"
   ]
  },
  {
   "cell_type": "code",
   "execution_count": 72,
   "id": "31fd391a",
   "metadata": {},
   "outputs": [],
   "source": [
    "df_pca = df_pca.loc[(df_pca[0] < 300) & (df_pca[1] < 50)]"
   ]
  },
  {
   "cell_type": "code",
   "execution_count": 73,
   "id": "5f738180",
   "metadata": {},
   "outputs": [
    {
     "name": "stderr",
     "output_type": "stream",
     "text": [
      "C:\\Users\\mahyar_fardin\\anaconda3\\lib\\site-packages\\seaborn\\_decorators.py:36: FutureWarning: Pass the following variables as keyword args: x, y. From version 0.12, the only valid positional argument will be `data`, and passing other arguments without an explicit keyword will result in an error or misinterpretation.\n",
      "  warnings.warn(\n"
     ]
    },
    {
     "data": {
      "text/plain": [
       "<AxesSubplot:xlabel='0', ylabel='1'>"
      ]
     },
     "execution_count": 73,
     "metadata": {},
     "output_type": "execute_result"
    },
    {
     "data": {
      "image/png": "[encoded data removed]",
      "text/plain": [
       "<Figure size 432x288 with 1 Axes>"
      ]
     },
     "metadata": {
      "needs_background": "light"
     },
     "output_type": "display_data"
    }
   ],
   "source": [
    "sns.scatterplot(df_pca[0],df_pca[1])"
   ]
  },
  {
   "cell_type": "markdown",
   "id": "f4db5ac9",
   "metadata": {},
   "source": [
    "**So dataset has 4 or even 5 clusters**"
   ]
  },
  {
   "cell_type": "markdown",
   "id": "184db786",
   "metadata": {},
   "source": [
    "# Kmeans"
   ]
  },
  {
   "cell_type": "code",
   "execution_count": 26,
   "id": "d14709d8",
   "metadata": {},
   "outputs": [],
   "source": [
    "from sklearn.cluster import KMeans"
   ]
  },
  {
   "cell_type": "code",
   "execution_count": 75,
   "id": "40e2a19b",
   "metadata": {},
   "outputs": [],
   "source": [
    "wcss=[]\n",
    "for i in range(2,20):\n",
    "    kmeans=KMeans(n_clusters=i)\n",
    "    kmeans.fit(df_pca)\n",
    "    wcss.append(kmeans.inertia_)"
   ]
  },
  {
   "cell_type": "markdown",
   "id": "41d33210",
   "metadata": {},
   "source": [
    "**------elbow method-----**"
   ]
  },
  {
   "cell_type": "code",
   "execution_count": 76,
   "id": "a952700c",
   "metadata": {},
   "outputs": [
    {
     "data": {
      "text/plain": [
       "([<matplotlib.axis.XTick at 0x242e3c886a0>,\n",
       "  <matplotlib.axis.XTick at 0x242e3c88670>,\n",
       "  <matplotlib.axis.XTick at 0x242e3c844f0>,\n",
       "  <matplotlib.axis.XTick at 0x242e4532580>,\n",
       "  <matplotlib.axis.XTick at 0x242e3d026a0>,\n",
       "  <matplotlib.axis.XTick at 0x242e3d02dc0>,\n",
       "  <matplotlib.axis.XTick at 0x242e3c82a90>,\n",
       "  <matplotlib.axis.XTick at 0x242e3d02e20>,\n",
       "  <matplotlib.axis.XTick at 0x242e3d0fc10>,\n",
       "  <matplotlib.axis.XTick at 0x242e3d43dc0>,\n",
       "  <matplotlib.axis.XTick at 0x242e3d53550>,\n",
       "  <matplotlib.axis.XTick at 0x242e3d53ca0>,\n",
       "  <matplotlib.axis.XTick at 0x242e3d4e430>,\n",
       "  <matplotlib.axis.XTick at 0x242e3d4eb80>,\n",
       "  <matplotlib.axis.XTick at 0x242e3d4e760>,\n",
       "  <matplotlib.axis.XTick at 0x242e3d53520>,\n",
       "  <matplotlib.axis.XTick at 0x242e3d56190>,\n",
       "  <matplotlib.axis.XTick at 0x242e3d56820>],\n",
       " [Text(0, 0, ''),\n",
       "  Text(0, 0, ''),\n",
       "  Text(0, 0, ''),\n",
       "  Text(0, 0, ''),\n",
       "  Text(0, 0, ''),\n",
       "  Text(0, 0, ''),\n",
       "  Text(0, 0, ''),\n",
       "  Text(0, 0, ''),\n",
       "  Text(0, 0, ''),\n",
       "  Text(0, 0, ''),\n",
       "  Text(0, 0, ''),\n",
       "  Text(0, 0, ''),\n",
       "  Text(0, 0, ''),\n",
       "  Text(0, 0, ''),\n",
       "  Text(0, 0, ''),\n",
       "  Text(0, 0, ''),\n",
       "  Text(0, 0, ''),\n",
       "  Text(0, 0, '')])"
      ]
     },
     "execution_count": 76,
     "metadata": {},
     "output_type": "execute_result"
    },
    {
     "data": {
      "image/png": "[encoded data removed]",
      "text/plain": [
       "<Figure size 432x288 with 1 Axes>"
      ]
     },
     "metadata": {
      "needs_background": "light"
     },
     "output_type": "display_data"
    }
   ],
   "source": [
    "plt.plot(range(2,20),wcss,\"bx-\")\n",
    "plt.xticks(range(2,20))"
   ]
  },
  {
   "cell_type": "code",
   "execution_count": 79,
   "id": "470bc650",
   "metadata": {},
   "outputs": [],
   "source": [
    "kmeans=KMeans(n_clusters=5)"
   ]
  },
  {
   "cell_type": "code",
   "execution_count": 80,
   "id": "159dc0d2",
   "metadata": {},
   "outputs": [],
   "source": [
    "label=kmeans.fit(df_pca).labels_"
   ]
  },
  {
   "cell_type": "markdown",
   "id": "1cdb9476",
   "metadata": {},
   "source": [
    "**so the elbow is at 5**"
   ]
  },
  {
   "cell_type": "code",
   "execution_count": 78,
   "id": "ca41adcf",
   "metadata": {},
   "outputs": [
    {
     "name": "stderr",
     "output_type": "stream",
     "text": [
      "C:\\Users\\mahyar_fardin\\anaconda3\\lib\\site-packages\\seaborn\\_decorators.py:36: FutureWarning: Pass the following variables as keyword args: x, y. From version 0.12, the only valid positional argument will be `data`, and passing other arguments without an explicit keyword will result in an error or misinterpretation.\n",
      "  warnings.warn(\n"
     ]
    },
    {
     "data": {
      "text/plain": [
       "<AxesSubplot:xlabel='0', ylabel='1'>"
      ]
     },
     "execution_count": 78,
     "metadata": {},
     "output_type": "execute_result"
    },
    {
     "data": {
      "image/png": "[encoded data removed]",
      "text/plain": [
       "<Figure size 432x288 with 1 Axes>"
      ]
     },
     "metadata": {
      "needs_background": "light"
     },
     "output_type": "display_data"
    }
   ],
   "source": [
    "sns.scatterplot(df_pca[0],df_pca[1],hue=label)"
   ]
  },
  {
   "cell_type": "markdown",
   "id": "5af8d949",
   "metadata": {},
   "source": [
    "**------silhouette method---------**"
   ]
  },
  {
   "cell_type": "code",
   "execution_count": 36,
   "id": "2cd9294c",
   "metadata": {},
   "outputs": [],
   "source": [
    "from sklearn.metrics import silhouette_score"
   ]
  },
  {
   "cell_type": "code",
   "execution_count": null,
   "id": "a01c398f",
   "metadata": {},
   "outputs": [],
   "source": [
    "slh=[]\n",
    "for i in range(2,20):\n",
    "    "
   ]
  }
 ],
 "metadata": {
  "kernelspec": {
   "display_name": "Python 3 (ipykernel)",
   "language": "python",
   "name": "python3"
  },
  "language_info": {
   "codemirror_mode": {
    "name": "ipython",
    "version": 3
   },
   "file_extension": ".py",
   "mimetype": "text/x-python",
   "name": "python",
   "nbconvert_exporter": "python",
   "pygments_lexer": "ipython3",
   "version": "3.9.7"
  }
 },
 "nbformat": 4,
 "nbformat_minor": 5
}
