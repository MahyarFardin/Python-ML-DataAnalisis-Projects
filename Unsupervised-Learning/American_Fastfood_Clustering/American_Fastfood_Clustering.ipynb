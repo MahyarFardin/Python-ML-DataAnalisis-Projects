{
 "cells": [
  {
   "cell_type": "code",
   "execution_count": null,
   "id": "f1c31c91",
   "metadata": {},
   "outputs": [],
   "source": [
    "import pandas as pd\n",
    "import seaborn as sns\n",
    "import matplotlib.pyplot as plt\n",
    "%matplotlib inline"
   ]
  },
  {
   "cell_type": "code",
   "execution_count": null,
   "id": "f2eb24e0",
   "metadata": {},
   "outputs": [],
   "source": [
    "df=pd.read_csv(\"8358_1.csv\")"
   ]
  },
  {
   "cell_type": "code",
   "execution_count": null,
   "id": "0a7f5831",
   "metadata": {},
   "outputs": [],
   "source": [
    "df.head()"
   ]
  },
  {
   "cell_type": "markdown",
   "id": "6861e0c5",
   "metadata": {},
   "source": [
    "# Preprocessing and Feature engineerin"
   ]
  },
  {
   "cell_type": "code",
   "execution_count": null,
   "id": "63366fca",
   "metadata": {},
   "outputs": [],
   "source": [
    "df.info()"
   ]
  },
  {
   "cell_type": "markdown",
   "id": "4f0b462c",
   "metadata": {},
   "source": [
    "**this dataset is full of nans lets see how to handel them**"
   ]
  },
  {
   "cell_type": "code",
   "execution_count": null,
   "id": "17777f65",
   "metadata": {},
   "outputs": [],
   "source": [
    "df.isnull().sum()"
   ]
  },
  {
   "cell_type": "markdown",
   "id": "b2b51f79",
   "metadata": {},
   "source": [
    "**I will drop:**\n",
    "\n",
    "**id and menuepageurl and keys and name since they are useless**\n",
    "\n",
    "**city and country and province since I have longitute and latitude**\n",
    "\n",
    "**also menues date seen sice the data won't effect the clustering(even if prices have chainged It won't matter)**\n",
    "\n",
    "**and menue description since it has a lot of unreplaceable datas**\n",
    "\n",
    "**and postal code(it would be usefull but we have longitude and latitude also it contains characters beside numbers)**"
   ]
  },
  {
   "cell_type": "code",
   "execution_count": null,
   "id": "3f8aff54",
   "metadata": {},
   "outputs": [],
   "source": [
    "df=df.drop([\"id\",\"address\",\"city\",\"country\",\"keys\",\"menuPageURL\",\"menus.dateSeen\",\"menus.description\",\"province\",\"postalCode\"],axis=1)"
   ]
  },
  {
   "cell_type": "code",
   "execution_count": null,
   "id": "2917c630",
   "metadata": {},
   "outputs": [],
   "source": [
    "df.info()"
   ]
  },
  {
   "cell_type": "code",
   "execution_count": null,
   "id": "e7f9be15",
   "metadata": {},
   "outputs": [],
   "source": [
    "len(list(df[\"categories\"].unique()))"
   ]
  },
  {
   "cell_type": "markdown",
   "id": "f682435a",
   "metadata": {},
   "source": [
    "**I will drop those columns which have a lot of unique labels**"
   ]
  },
  {
   "cell_type": "code",
   "execution_count": null,
   "id": "b1009bf7",
   "metadata": {},
   "outputs": [],
   "source": [
    "df=df.drop(\"categories\",axis=1)"
   ]
  },
  {
   "cell_type": "code",
   "execution_count": null,
   "id": "92de64dd",
   "metadata": {},
   "outputs": [],
   "source": [
    "df[\"menus.currency\"].value_counts()"
   ]
  },
  {
   "cell_type": "markdown",
   "id": "d81e87f3",
   "metadata": {},
   "source": [
    "**since all of them are the same I will drop it**"
   ]
  },
  {
   "cell_type": "code",
   "execution_count": null,
   "id": "619813b8",
   "metadata": {},
   "outputs": [],
   "source": [
    "df=df.drop(\"menus.currency\",axis=1)"
   ]
  },
  {
   "cell_type": "code",
   "execution_count": null,
   "id": "3f261a66",
   "metadata": {},
   "outputs": [],
   "source": [
    "len(list(df[\"menus.name\"].unique()))"
   ]
  },
  {
   "cell_type": "code",
   "execution_count": null,
   "id": "bdf38f21",
   "metadata": {},
   "outputs": [],
   "source": [
    "df=df.drop(\"menus.name\",axis=1)"
   ]
  },
  {
   "cell_type": "code",
   "execution_count": null,
   "id": "88260ecb",
   "metadata": {},
   "outputs": [],
   "source": [
    "len(list(df[\"name\"].unique()))"
   ]
  },
  {
   "cell_type": "code",
   "execution_count": null,
   "id": "5afe9a42",
   "metadata": {},
   "outputs": [],
   "source": [
    "df=df.drop(\"name\",axis=1)"
   ]
  },
  {
   "cell_type": "code",
   "execution_count": null,
   "id": "7c741c38",
   "metadata": {},
   "outputs": [],
   "source": [
    "df[\"priceRangeCurrency\"].value_counts()"
   ]
  },
  {
   "cell_type": "code",
   "execution_count": null,
   "id": "8d3e66aa",
   "metadata": {},
   "outputs": [],
   "source": [
    "df=df.drop(\"priceRangeCurrency\",axis=1)"
   ]
  },
  {
   "cell_type": "code",
   "execution_count": null,
   "id": "fe1f2195",
   "metadata": {},
   "outputs": [],
   "source": [
    "df.info()"
   ]
  },
  {
   "cell_type": "markdown",
   "id": "433a195e",
   "metadata": {},
   "source": [
    "**In order to find and replace nans of price range min and max I should search the realtion in a correlation**"
   ]
  },
  {
   "cell_type": "code",
   "execution_count": null,
   "id": "18171dd7",
   "metadata": {},
   "outputs": [],
   "source": [
    "sns.heatmap(df.corr(),annot=True)"
   ]
  },
  {
   "cell_type": "code",
   "execution_count": null,
   "id": "2b397f51",
   "metadata": {},
   "outputs": [],
   "source": [
    "sns.heatmap(df.isnull(),cmap=\"plasma\")"
   ]
  },
  {
   "cell_type": "markdown",
   "id": "0329fd57",
   "metadata": {},
   "source": [
    "**there is lots of missing values I have to drop them**\n",
    "**I dont have enough data for knn to predict them most of them are missing values**"
   ]
  },
  {
   "cell_type": "code",
   "execution_count": null,
   "id": "d797d5fd",
   "metadata": {},
   "outputs": [],
   "source": [
    "df=df.dropna()"
   ]
  },
  {
   "cell_type": "code",
   "execution_count": null,
   "id": "66ac5778",
   "metadata": {},
   "outputs": [],
   "source": [
    "df.info()"
   ]
  },
  {
   "cell_type": "code",
   "execution_count": null,
   "id": "0086dacb",
   "metadata": {},
   "outputs": [],
   "source": [
    "df.describe()"
   ]
  },
  {
   "cell_type": "markdown",
   "id": "40846ecf",
   "metadata": {},
   "source": [
    "# PCA\n",
    "\n",
    "(I did this part to do just some experiment the main clustering at the end)"
   ]
  },
  {
   "cell_type": "code",
   "execution_count": null,
   "id": "72bcfe1f",
   "metadata": {},
   "outputs": [],
   "source": [
    "from sklearn.decomposition import PCA"
   ]
  },
  {
   "cell_type": "code",
   "execution_count": null,
   "id": "a792483a",
   "metadata": {},
   "outputs": [],
   "source": [
    "pca=PCA(2)"
   ]
  },
  {
   "cell_type": "code",
   "execution_count": null,
   "id": "8ef1072b",
   "metadata": {},
   "outputs": [],
   "source": [
    "df_pca=pd.DataFrame(pca.fit_transform(df))"
   ]
  },
  {
   "cell_type": "code",
   "execution_count": null,
   "id": "d3074ae1",
   "metadata": {},
   "outputs": [],
   "source": [
    "sns.scatterplot(df_pca[0],df_pca[1])"
   ]
  },
  {
   "cell_type": "markdown",
   "id": "f563685c",
   "metadata": {},
   "source": [
    "**those points are missing values let's dropt them**"
   ]
  },
  {
   "cell_type": "code",
   "execution_count": null,
   "id": "31fd391a",
   "metadata": {},
   "outputs": [],
   "source": [
    "df_pca = df_pca.loc[(df_pca[0] < 300) & (df_pca[1] < 50)]"
   ]
  },
  {
   "cell_type": "code",
   "execution_count": null,
   "id": "5f738180",
   "metadata": {},
   "outputs": [],
   "source": [
    "sns.scatterplot(df_pca[0],df_pca[1])"
   ]
  },
  {
   "cell_type": "markdown",
   "id": "f4db5ac9",
   "metadata": {},
   "source": [
    "**So dataset has 4 or even 5 clusters**\n",
    "\n",
    "**Also kmeans won't act well on this dataset because of the logic, DBSCAN would be the best**"
   ]
  },
  {
   "cell_type": "markdown",
   "id": "184db786",
   "metadata": {},
   "source": [
    "# Kmeans"
   ]
  },
  {
   "cell_type": "code",
   "execution_count": null,
   "id": "d14709d8",
   "metadata": {},
   "outputs": [],
   "source": [
    "from sklearn.cluster import KMeans"
   ]
  },
  {
   "cell_type": "code",
   "execution_count": null,
   "id": "40e2a19b",
   "metadata": {},
   "outputs": [],
   "source": [
    "wcss=[]\n",
    "for i in range(2,20):\n",
    "    kmeans=KMeans(n_clusters=i)\n",
    "    kmeans.fit(df_pca)\n",
    "    wcss.append(kmeans.inertia_)"
   ]
  },
  {
   "cell_type": "markdown",
   "id": "41d33210",
   "metadata": {},
   "source": [
    "**------elbow method-----**"
   ]
  },
  {
   "cell_type": "code",
   "execution_count": null,
   "id": "a952700c",
   "metadata": {},
   "outputs": [],
   "source": [
    "plt.plot(range(2,20),wcss,\"bx-\")\n",
    "plt.xticks(range(2,20))"
   ]
  },
  {
   "cell_type": "code",
   "execution_count": null,
   "id": "470bc650",
   "metadata": {},
   "outputs": [],
   "source": [
    "kmeans=KMeans(n_clusters=5)"
   ]
  },
  {
   "cell_type": "code",
   "execution_count": null,
   "id": "159dc0d2",
   "metadata": {},
   "outputs": [],
   "source": [
    "label_kmeans=kmeans.fit(df_pca).labels_"
   ]
  },
  {
   "cell_type": "markdown",
   "id": "1cdb9476",
   "metadata": {},
   "source": [
    "**so the elbow is at 5**"
   ]
  },
  {
   "cell_type": "code",
   "execution_count": null,
   "id": "9b8a52e5",
   "metadata": {},
   "outputs": [],
   "source": [
    "centroid=pd.DataFrame(kmeans.cluster_centers_)"
   ]
  },
  {
   "cell_type": "code",
   "execution_count": null,
   "id": "ca41adcf",
   "metadata": {},
   "outputs": [],
   "source": [
    "sns.scatterplot(df_pca[0],df_pca[1],hue=label_kmeans)\n",
    "sns.scatterplot(centroid[0],centroid[1])"
   ]
  },
  {
   "cell_type": "markdown",
   "id": "091e343b",
   "metadata": {},
   "source": [
    "# DBSCAN\n",
    "(we could also use the main data without removing missing values because this model handels missing values)"
   ]
  },
  {
   "cell_type": "code",
   "execution_count": null,
   "id": "f0269416",
   "metadata": {},
   "outputs": [],
   "source": [
    "from sklearn.cluster import DBSCAN"
   ]
  },
  {
   "cell_type": "markdown",
   "id": "91eb21dc",
   "metadata": {},
   "source": [
    "**Since the distance between data clusters is too high I set the eps to a higher rate**"
   ]
  },
  {
   "cell_type": "code",
   "execution_count": null,
   "id": "8787db35",
   "metadata": {},
   "outputs": [],
   "source": [
    "dbs=DBSCAN(eps=5)"
   ]
  },
  {
   "cell_type": "code",
   "execution_count": null,
   "id": "8b1a5d15",
   "metadata": {},
   "outputs": [],
   "source": [
    "dbs.fit(df_pca)"
   ]
  },
  {
   "cell_type": "code",
   "execution_count": null,
   "id": "33925f6f",
   "metadata": {},
   "outputs": [],
   "source": [
    "label_dbs=dbs.labels_"
   ]
  },
  {
   "cell_type": "code",
   "execution_count": null,
   "id": "2f3ec3f3",
   "metadata": {},
   "outputs": [],
   "source": [
    "sns.scatterplot(df_pca[0],df_pca[1],hue=label_dbs,palette=\"viridis\")"
   ]
  },
  {
   "cell_type": "markdown",
   "id": "44c6f4b9",
   "metadata": {},
   "source": [
    "# SpectralClustering"
   ]
  },
  {
   "cell_type": "code",
   "execution_count": null,
   "id": "de353110",
   "metadata": {},
   "outputs": [],
   "source": [
    "from sklearn.cluster import SpectralClustering"
   ]
  },
  {
   "cell_type": "code",
   "execution_count": null,
   "id": "b3f189e3",
   "metadata": {},
   "outputs": [],
   "source": [
    "sc=SpectralClustering(n_clusters=5)"
   ]
  },
  {
   "cell_type": "code",
   "execution_count": null,
   "id": "d1d029d3",
   "metadata": {},
   "outputs": [],
   "source": [
    "label_sc=sc.fit_predict(df_pca)"
   ]
  },
  {
   "cell_type": "code",
   "execution_count": null,
   "id": "66b1009d",
   "metadata": {},
   "outputs": [],
   "source": [
    "sns.scatterplot(df_pca[0],df_pca[1],hue=label_sc,palette=\"viridis\")"
   ]
  },
  {
   "cell_type": "markdown",
   "id": "5a9eafec",
   "metadata": {},
   "source": [
    "**This is the best result**"
   ]
  },
  {
   "cell_type": "markdown",
   "id": "fb012081",
   "metadata": {},
   "source": [
    "# Optic"
   ]
  },
  {
   "cell_type": "code",
   "execution_count": null,
   "id": "258b1839",
   "metadata": {},
   "outputs": [],
   "source": [
    "from sklearn.cluster import OPTICS"
   ]
  },
  {
   "cell_type": "code",
   "execution_count": null,
   "id": "f163a659",
   "metadata": {},
   "outputs": [],
   "source": [
    "optics=OPTICS(eps=5)"
   ]
  },
  {
   "cell_type": "code",
   "execution_count": null,
   "id": "4b37c5f9",
   "metadata": {},
   "outputs": [],
   "source": [
    "label_opt=optics.fit_predict(df_pca)"
   ]
  },
  {
   "cell_type": "code",
   "execution_count": null,
   "id": "7bef3c08",
   "metadata": {},
   "outputs": [],
   "source": [
    "sns.scatterplot(df_pca[0],df_pca[1],hue=label_opt,palette=\"viridis\")"
   ]
  },
  {
   "cell_type": "markdown",
   "id": "e58df773",
   "metadata": {},
   "source": [
    "# Gaussian mixture"
   ]
  },
  {
   "cell_type": "code",
   "execution_count": null,
   "id": "8b305896",
   "metadata": {},
   "outputs": [],
   "source": [
    "from sklearn.mixture import GaussianMixture"
   ]
  },
  {
   "cell_type": "code",
   "execution_count": null,
   "id": "1ebb2bb4",
   "metadata": {},
   "outputs": [],
   "source": [
    "gm=GaussianMixture(n_components=5)"
   ]
  },
  {
   "cell_type": "code",
   "execution_count": null,
   "id": "e9c0e639",
   "metadata": {},
   "outputs": [],
   "source": [
    "label_gm=gm.fit_predict(df_pca)"
   ]
  },
  {
   "cell_type": "code",
   "execution_count": null,
   "id": "6df110a6",
   "metadata": {},
   "outputs": [],
   "source": [
    "sns.scatterplot(df_pca[0],df_pca[1],hue=label_gm,palette=\"viridis\")"
   ]
  },
  {
   "cell_type": "code",
   "execution_count": null,
   "id": "4014684f",
   "metadata": {},
   "outputs": [],
   "source": [
    "gm=GaussianMixture(n_components=4)\n",
    "label_gm=gm.fit_predict(df_pca)\n",
    "sns.scatterplot(df_pca[0],df_pca[1],hue=label_gm,palette=\"viridis\")"
   ]
  },
  {
   "cell_type": "markdown",
   "id": "f2138d31",
   "metadata": {},
   "source": [
    "# AgglomerativeClustering"
   ]
  },
  {
   "cell_type": "code",
   "execution_count": null,
   "id": "2ef1e53f",
   "metadata": {},
   "outputs": [],
   "source": [
    "from sklearn.cluster import AgglomerativeClustering"
   ]
  },
  {
   "cell_type": "code",
   "execution_count": null,
   "id": "67066ce7",
   "metadata": {},
   "outputs": [],
   "source": [
    "agc=AgglomerativeClustering(n_clusters=5)"
   ]
  },
  {
   "cell_type": "code",
   "execution_count": null,
   "id": "6b6fd394",
   "metadata": {},
   "outputs": [],
   "source": [
    "label_agc=agc.fit_predict(df_pca)"
   ]
  },
  {
   "cell_type": "code",
   "execution_count": null,
   "id": "a5ee1097",
   "metadata": {},
   "outputs": [],
   "source": [
    "gm=GaussianMixture(n_components=5)\n",
    "label_gm=gm.fit_predict(df_pca)\n",
    "sns.scatterplot(df_pca[0],df_pca[1],hue=label_agc,palette=\"viridis\")"
   ]
  },
  {
   "cell_type": "markdown",
   "id": "df7d34a3",
   "metadata": {},
   "source": [
    "# Clusterin"
   ]
  },
  {
   "cell_type": "code",
   "execution_count": null,
   "id": "a8a9b352",
   "metadata": {},
   "outputs": [],
   "source": [
    "kmeans=KMeans(n_clusters=4)"
   ]
  },
  {
   "cell_type": "code",
   "execution_count": null,
   "id": "ff5e1f0a",
   "metadata": {},
   "outputs": [],
   "source": [
    "df[\"label\"]=kmeans.fit_predict(df)"
   ]
  },
  {
   "cell_type": "code",
   "execution_count": null,
   "id": "9af461f7",
   "metadata": {},
   "outputs": [],
   "source": []
  }
 ],
 "metadata": {
  "kernelspec": {
   "display_name": "Python 3 (ipykernel)",
   "language": "python",
   "name": "python3"
  },
  "language_info": {
   "codemirror_mode": {
    "name": "ipython",
    "version": 3
   },
   "file_extension": ".py",
   "mimetype": "text/x-python",
   "name": "python",
   "nbconvert_exporter": "python",
   "pygments_lexer": "ipython3",
   "version": "3.9.7"
  }
 },
 "nbformat": 4,
 "nbformat_minor": 5
}
