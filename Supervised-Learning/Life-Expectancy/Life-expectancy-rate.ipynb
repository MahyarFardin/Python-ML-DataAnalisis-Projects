{
 "cells": [
  {
   "cell_type": "markdown",
   "id": "5520fb6a",
   "metadata": {},
   "source": [
    "# Importing libraries to first do some explore on dataset"
   ]
  },
  {
   "cell_type": "code",
   "execution_count": 1,
   "id": "b720268f",
   "metadata": {},
   "outputs": [],
   "source": [
    "import pandas as pd\n",
    "import seaborn as sns\n",
    "import matplotlib.pyplot as plt\n",
    "%matplotlib inline"
   ]
  },
  {
   "cell_type": "code",
   "execution_count": 167,
   "id": "36b8ec2c",
   "metadata": {},
   "outputs": [],
   "source": [
    "df=pd.read_excel(\"Life Expectancy at Birth.xlsx\")"
   ]
  },
  {
   "cell_type": "code",
   "execution_count": 4,
   "id": "d566027c",
   "metadata": {},
   "outputs": [
    {
     "data": {
      "text/html": [
       "<div>\n",
       "<style scoped>\n",
       "    .dataframe tbody tr th:only-of-type {\n",
       "        vertical-align: middle;\n",
       "    }\n",
       "\n",
       "    .dataframe tbody tr th {\n",
       "        vertical-align: top;\n",
       "    }\n",
       "\n",
       "    .dataframe thead th {\n",
       "        text-align: right;\n",
       "    }\n",
       "</style>\n",
       "<table border=\"1\" class=\"dataframe\">\n",
       "  <thead>\n",
       "    <tr style=\"text-align: right;\">\n",
       "      <th></th>\n",
       "      <th>Country</th>\n",
       "      <th>Country Code</th>\n",
       "      <th>Region</th>\n",
       "      <th>Income Group</th>\n",
       "      <th>Year</th>\n",
       "      <th>Life Expectancy</th>\n",
       "    </tr>\n",
       "  </thead>\n",
       "  <tbody>\n",
       "    <tr>\n",
       "      <th>0</th>\n",
       "      <td>Aruba</td>\n",
       "      <td>ABW</td>\n",
       "      <td>Latin America &amp; Caribbean</td>\n",
       "      <td>High income</td>\n",
       "      <td>1960</td>\n",
       "      <td>65.569366</td>\n",
       "    </tr>\n",
       "    <tr>\n",
       "      <th>1</th>\n",
       "      <td>Afghanistan</td>\n",
       "      <td>AFG</td>\n",
       "      <td>South Asia</td>\n",
       "      <td>Low income</td>\n",
       "      <td>1960</td>\n",
       "      <td>32.328512</td>\n",
       "    </tr>\n",
       "    <tr>\n",
       "      <th>2</th>\n",
       "      <td>Angola</td>\n",
       "      <td>AGO</td>\n",
       "      <td>Sub-Saharan Africa</td>\n",
       "      <td>Lower middle income</td>\n",
       "      <td>1960</td>\n",
       "      <td>32.984829</td>\n",
       "    </tr>\n",
       "    <tr>\n",
       "      <th>3</th>\n",
       "      <td>Albania</td>\n",
       "      <td>ALB</td>\n",
       "      <td>Europe &amp; Central Asia</td>\n",
       "      <td>Upper middle income</td>\n",
       "      <td>1960</td>\n",
       "      <td>62.254366</td>\n",
       "    </tr>\n",
       "    <tr>\n",
       "      <th>4</th>\n",
       "      <td>Andorra</td>\n",
       "      <td>AND</td>\n",
       "      <td>Europe &amp; Central Asia</td>\n",
       "      <td>High income</td>\n",
       "      <td>1960</td>\n",
       "      <td>NaN</td>\n",
       "    </tr>\n",
       "  </tbody>\n",
       "</table>\n",
       "</div>"
      ],
      "text/plain": [
       "       Country Country Code                     Region         Income Group  \\\n",
       "0        Aruba          ABW  Latin America & Caribbean          High income   \n",
       "1  Afghanistan          AFG                 South Asia           Low income   \n",
       "2       Angola          AGO         Sub-Saharan Africa  Lower middle income   \n",
       "3      Albania          ALB      Europe & Central Asia  Upper middle income   \n",
       "4      Andorra          AND      Europe & Central Asia          High income   \n",
       "\n",
       "   Year  Life Expectancy  \n",
       "0  1960        65.569366  \n",
       "1  1960        32.328512  \n",
       "2  1960        32.984829  \n",
       "3  1960        62.254366  \n",
       "4  1960              NaN  "
      ]
     },
     "execution_count": 4,
     "metadata": {},
     "output_type": "execute_result"
    }
   ],
   "source": [
    "df.head()"
   ]
  },
  {
   "cell_type": "markdown",
   "id": "b8ee054a",
   "metadata": {},
   "source": [
    "We will not need it, it's the same as the country"
   ]
  },
  {
   "cell_type": "code",
   "execution_count": 168,
   "id": "49007b13",
   "metadata": {},
   "outputs": [],
   "source": [
    "df=df.drop(\"Country Code\",axis=1)"
   ]
  },
  {
   "cell_type": "code",
   "execution_count": 8,
   "id": "af753ddf",
   "metadata": {},
   "outputs": [
    {
     "name": "stdout",
     "output_type": "stream",
     "text": [
      "<class 'pandas.core.frame.DataFrame'>\n",
      "RangeIndex: 14728 entries, 0 to 14727\n",
      "Data columns (total 5 columns):\n",
      " #   Column           Non-Null Count  Dtype  \n",
      "---  ------           --------------  -----  \n",
      " 0   Country          14728 non-null  object \n",
      " 1   Region           12152 non-null  object \n",
      " 2   Income Group     12152 non-null  object \n",
      " 3   Year             14728 non-null  int64  \n",
      " 4   Life Expectancy  13498 non-null  float64\n",
      "dtypes: float64(1), int64(1), object(3)\n",
      "memory usage: 402.8+ KB\n"
     ]
    }
   ],
   "source": [
    "df.info()"
   ]
  },
  {
   "cell_type": "code",
   "execution_count": 9,
   "id": "55b4439d",
   "metadata": {},
   "outputs": [
    {
     "data": {
      "text/html": [
       "<div>\n",
       "<style scoped>\n",
       "    .dataframe tbody tr th:only-of-type {\n",
       "        vertical-align: middle;\n",
       "    }\n",
       "\n",
       "    .dataframe tbody tr th {\n",
       "        vertical-align: top;\n",
       "    }\n",
       "\n",
       "    .dataframe thead th {\n",
       "        text-align: right;\n",
       "    }\n",
       "</style>\n",
       "<table border=\"1\" class=\"dataframe\">\n",
       "  <thead>\n",
       "    <tr style=\"text-align: right;\">\n",
       "      <th></th>\n",
       "      <th>Year</th>\n",
       "      <th>Life Expectancy</th>\n",
       "    </tr>\n",
       "  </thead>\n",
       "  <tbody>\n",
       "    <tr>\n",
       "      <th>count</th>\n",
       "      <td>14728.000000</td>\n",
       "      <td>13498.000000</td>\n",
       "    </tr>\n",
       "    <tr>\n",
       "      <th>mean</th>\n",
       "      <td>1987.500000</td>\n",
       "      <td>63.303497</td>\n",
       "    </tr>\n",
       "    <tr>\n",
       "      <th>std</th>\n",
       "      <td>16.163779</td>\n",
       "      <td>11.231589</td>\n",
       "    </tr>\n",
       "    <tr>\n",
       "      <th>min</th>\n",
       "      <td>1960.000000</td>\n",
       "      <td>19.265512</td>\n",
       "    </tr>\n",
       "    <tr>\n",
       "      <th>25%</th>\n",
       "      <td>1973.750000</td>\n",
       "      <td>55.095858</td>\n",
       "    </tr>\n",
       "    <tr>\n",
       "      <th>50%</th>\n",
       "      <td>1987.500000</td>\n",
       "      <td>66.081646</td>\n",
       "    </tr>\n",
       "    <tr>\n",
       "      <th>75%</th>\n",
       "      <td>2001.250000</td>\n",
       "      <td>71.836439</td>\n",
       "    </tr>\n",
       "    <tr>\n",
       "      <th>max</th>\n",
       "      <td>2015.000000</td>\n",
       "      <td>84.278049</td>\n",
       "    </tr>\n",
       "  </tbody>\n",
       "</table>\n",
       "</div>"
      ],
      "text/plain": [
       "               Year  Life Expectancy\n",
       "count  14728.000000     13498.000000\n",
       "mean    1987.500000        63.303497\n",
       "std       16.163779        11.231589\n",
       "min     1960.000000        19.265512\n",
       "25%     1973.750000        55.095858\n",
       "50%     1987.500000        66.081646\n",
       "75%     2001.250000        71.836439\n",
       "max     2015.000000        84.278049"
      ]
     },
     "execution_count": 9,
     "metadata": {},
     "output_type": "execute_result"
    }
   ],
   "source": [
    "df.describe()"
   ]
  },
  {
   "cell_type": "markdown",
   "id": "b2a95082",
   "metadata": {},
   "source": [
    "We have lots of missing values"
   ]
  },
  {
   "cell_type": "code",
   "execution_count": 7,
   "id": "5a5d21c6",
   "metadata": {},
   "outputs": [
    {
     "data": {
      "text/plain": [
       "Country               0\n",
       "Region             2576\n",
       "Income Group       2576\n",
       "Year                  0\n",
       "Life Expectancy    1230\n",
       "dtype: int64"
      ]
     },
     "execution_count": 7,
     "metadata": {},
     "output_type": "execute_result"
    }
   ],
   "source": [
    "df.isnull().sum()"
   ]
  },
  {
   "cell_type": "code",
   "execution_count": 10,
   "id": "2790699e",
   "metadata": {},
   "outputs": [
    {
     "data": {
      "text/plain": [
       "<AxesSubplot:>"
      ]
     },
     "execution_count": 10,
     "metadata": {},
     "output_type": "execute_result"
    },
    {
     "data": {
      "image/png": "[encoded data removed]",
      "text/plain": [
       "<Figure size 432x288 with 1 Axes>"
      ]
     },
     "metadata": {
      "needs_background": "light"
     },
     "output_type": "display_data"
    }
   ],
   "source": [
    "sns.heatmap(df.isnull(),cmap=\"winter\",yticklabels=False,cbar=False)"
   ]
  },
  {
   "cell_type": "code",
   "execution_count": 14,
   "id": "46ef17f0",
   "metadata": {},
   "outputs": [
    {
     "data": {
      "text/plain": [
       "Aruba                                     56\n",
       "Malawi                                    56\n",
       "North America                             56\n",
       "Namibia                                   56\n",
       "New Caledonia                             56\n",
       "                                          ..\n",
       "High income                               56\n",
       "Hong Kong SAR, China                      56\n",
       "Honduras                                  56\n",
       "Heavily indebted poor countries (HIPC)    56\n",
       "Zimbabwe                                  56\n",
       "Name: Country, Length: 263, dtype: int64"
      ]
     },
     "execution_count": 14,
     "metadata": {},
     "output_type": "execute_result"
    }
   ],
   "source": [
    "df[\"Country\"].value_counts()"
   ]
  },
  {
   "cell_type": "code",
   "execution_count": 215,
   "id": "817904da",
   "metadata": {},
   "outputs": [
    {
     "data": {
      "text/plain": [
       "<bound method Series.unique of 0        1960\n",
       "1        1960\n",
       "2        1960\n",
       "3        1960\n",
       "4        1960\n",
       "         ... \n",
       "13493    2015\n",
       "13494    2015\n",
       "13495    2015\n",
       "13496    2015\n",
       "13497    2015\n",
       "Name: Year, Length: 13498, dtype: int64>"
      ]
     },
     "execution_count": 215,
     "metadata": {},
     "output_type": "execute_result"
    }
   ],
   "source": [
    "df[\"Year\"].unique"
   ]
  },
  {
   "cell_type": "code",
   "execution_count": 15,
   "id": "8e5a8995",
   "metadata": {},
   "outputs": [
    {
     "data": {
      "text/plain": [
       "Europe & Central Asia         3248\n",
       "Sub-Saharan Africa            2688\n",
       "Latin America & Caribbean     2352\n",
       "East Asia & Pacific           2072\n",
       "Middle East & North Africa    1176\n",
       "South Asia                     448\n",
       "North America                  168\n",
       "Name: Region, dtype: int64"
      ]
     },
     "execution_count": 15,
     "metadata": {},
     "output_type": "execute_result"
    }
   ],
   "source": [
    "df[\"Region\"].value_counts()"
   ]
  },
  {
   "cell_type": "markdown",
   "id": "dcadd764",
   "metadata": {},
   "source": [
    "We do not need region because we have country which is smaller scale and it can provide more info revealing region(*for example two countries may be beside eachother but their life expectacies may be differant that's why I am dropping the region*)"
   ]
  },
  {
   "cell_type": "code",
   "execution_count": 169,
   "id": "04c4c52f",
   "metadata": {},
   "outputs": [],
   "source": [
    "df=df.drop(\"Region\",axis=1)"
   ]
  },
  {
   "cell_type": "markdown",
   "id": "757a8096",
   "metadata": {},
   "source": [
    "Life expectancy is our y axis so we can not modify it so we have to just remove it (*we can traing our model and if we get a good reslut we can use it to predict the missing values but now we do not really need that*)"
   ]
  },
  {
   "cell_type": "code",
   "execution_count": 170,
   "id": "42255e02",
   "metadata": {},
   "outputs": [],
   "source": [
    "df=df[df['Life Expectancy'].notna()]"
   ]
  },
  {
   "cell_type": "markdown",
   "id": "6c9ae52c",
   "metadata": {},
   "source": [
    "In the upper box I took every information except nans"
   ]
  },
  {
   "cell_type": "code",
   "execution_count": 19,
   "id": "d18bb5da",
   "metadata": {},
   "outputs": [
    {
     "data": {
      "text/plain": [
       "<AxesSubplot:>"
      ]
     },
     "execution_count": 19,
     "metadata": {},
     "output_type": "execute_result"
    },
    {
     "data": {
      "image/png": "[encoded data removed]",
      "text/plain": [
       "<Figure size 432x288 with 1 Axes>"
      ]
     },
     "metadata": {
      "needs_background": "light"
     },
     "output_type": "display_data"
    }
   ],
   "source": [
    "sns.heatmap(df.isnull(),cmap=\"winter\",yticklabels=False,cbar=False)"
   ]
  },
  {
   "cell_type": "code",
   "execution_count": 20,
   "id": "efab3ee3",
   "metadata": {},
   "outputs": [
    {
     "data": {
      "text/plain": [
       "High income            3443\n",
       "Lower middle income    2917\n",
       "Upper middle income    2826\n",
       "Low income             1736\n",
       "Name: Income Group, dtype: int64"
      ]
     },
     "execution_count": 20,
     "metadata": {},
     "output_type": "execute_result"
    }
   ],
   "source": [
    "df[\"Income Group\"].value_counts()"
   ]
  },
  {
   "cell_type": "markdown",
   "id": "273d0c5b",
   "metadata": {},
   "source": [
    "We can replace income group only based on life expectancy it has two reasons:\n",
    "\n",
    "**1. survay is done based on individuals** \n",
    "\n",
    "This means all of the income groups from one country are included so we can not predict them using country.\n",
    "\n",
    "**2. There is actully a relation between income and life expectancy as shown below**"
   ]
  },
  {
   "cell_type": "code",
   "execution_count": 22,
   "id": "56f9169e",
   "metadata": {},
   "outputs": [
    {
     "data": {
      "text/plain": [
       "(array([0, 1, 2, 3]),\n",
       " [Text(0, 0, 'High income'),\n",
       "  Text(1, 0, 'Low income'),\n",
       "  Text(2, 0, 'Lower middle income'),\n",
       "  Text(3, 0, 'Upper middle income')])"
      ]
     },
     "execution_count": 22,
     "metadata": {},
     "output_type": "execute_result"
    },
    {
     "data": {
      "image/png": "[encoded data removed]",
      "text/plain": [
       "<Figure size 432x288 with 1 Axes>"
      ]
     },
     "metadata": {
      "needs_background": "light"
     },
     "output_type": "display_data"
    }
   ],
   "source": [
    "sns.barplot(data=df,x=\"Income Group\",y=\"Life Expectancy\")\n",
    "plt.xticks(rotation=90)"
   ]
  },
  {
   "cell_type": "markdown",
   "id": "95715ee4",
   "metadata": {},
   "source": [
    "So lets find exact numbers then define a range for each group and replace them (but since we have a large data I will just pass them)"
   ]
  },
  {
   "cell_type": "code",
   "execution_count": 64,
   "id": "35008280",
   "metadata": {},
   "outputs": [
    {
     "data": {
      "text/html": [
       "<div>\n",
       "<style scoped>\n",
       "    .dataframe tbody tr th:only-of-type {\n",
       "        vertical-align: middle;\n",
       "    }\n",
       "\n",
       "    .dataframe tbody tr th {\n",
       "        vertical-align: top;\n",
       "    }\n",
       "\n",
       "    .dataframe thead th {\n",
       "        text-align: right;\n",
       "    }\n",
       "</style>\n",
       "<table border=\"1\" class=\"dataframe\">\n",
       "  <thead>\n",
       "    <tr style=\"text-align: right;\">\n",
       "      <th></th>\n",
       "      <th>High margin</th>\n",
       "    </tr>\n",
       "    <tr>\n",
       "      <th>Income Group</th>\n",
       "      <th></th>\n",
       "    </tr>\n",
       "  </thead>\n",
       "  <tbody>\n",
       "    <tr>\n",
       "      <th>High income</th>\n",
       "      <td>84.278049</td>\n",
       "    </tr>\n",
       "    <tr>\n",
       "      <th>Low income</th>\n",
       "      <td>70.337927</td>\n",
       "    </tr>\n",
       "    <tr>\n",
       "      <th>Lower middle income</th>\n",
       "      <td>75.777732</td>\n",
       "    </tr>\n",
       "    <tr>\n",
       "      <th>Upper middle income</th>\n",
       "      <td>79.628610</td>\n",
       "    </tr>\n",
       "  </tbody>\n",
       "</table>\n",
       "</div>"
      ],
      "text/plain": [
       "                     High margin\n",
       "Income Group                    \n",
       "High income            84.278049\n",
       "Low income             70.337927\n",
       "Lower middle income    75.777732\n",
       "Upper middle income    79.628610"
      ]
     },
     "execution_count": 64,
     "metadata": {},
     "output_type": "execute_result"
    }
   ],
   "source": [
    "maximum=pd.pivot_table(data=df,index=[\"Income Group\"],aggfunc={\"Life Expectancy\":max})\n",
    "maximum=maximum.rename(columns={\"Life Expectancy\":\"High margin\"})"
   ]
  },
  {
   "cell_type": "code",
   "execution_count": 60,
   "id": "c05fddfc",
   "metadata": {},
   "outputs": [],
   "source": [
    "le=le.sort_values(by=\"High margin\")"
   ]
  },
  {
   "cell_type": "code",
   "execution_count": 65,
   "id": "00773c9c",
   "metadata": {},
   "outputs": [
    {
     "data": {
      "text/html": [
       "<div>\n",
       "<style scoped>\n",
       "    .dataframe tbody tr th:only-of-type {\n",
       "        vertical-align: middle;\n",
       "    }\n",
       "\n",
       "    .dataframe tbody tr th {\n",
       "        vertical-align: top;\n",
       "    }\n",
       "\n",
       "    .dataframe thead th {\n",
       "        text-align: right;\n",
       "    }\n",
       "</style>\n",
       "<table border=\"1\" class=\"dataframe\">\n",
       "  <thead>\n",
       "    <tr style=\"text-align: right;\">\n",
       "      <th></th>\n",
       "      <th>High margin</th>\n",
       "    </tr>\n",
       "    <tr>\n",
       "      <th>Income Group</th>\n",
       "      <th></th>\n",
       "    </tr>\n",
       "  </thead>\n",
       "  <tbody>\n",
       "    <tr>\n",
       "      <th>Low income</th>\n",
       "      <td>70.337927</td>\n",
       "    </tr>\n",
       "    <tr>\n",
       "      <th>Lower middle income</th>\n",
       "      <td>75.777732</td>\n",
       "    </tr>\n",
       "    <tr>\n",
       "      <th>Upper middle income</th>\n",
       "      <td>79.628610</td>\n",
       "    </tr>\n",
       "    <tr>\n",
       "      <th>High income</th>\n",
       "      <td>84.278049</td>\n",
       "    </tr>\n",
       "  </tbody>\n",
       "</table>\n",
       "</div>"
      ],
      "text/plain": [
       "                     High margin\n",
       "Income Group                    \n",
       "Low income             70.337927\n",
       "Lower middle income    75.777732\n",
       "Upper middle income    79.628610\n",
       "High income            84.278049"
      ]
     },
     "execution_count": 65,
     "metadata": {},
     "output_type": "execute_result"
    }
   ],
   "source": [
    "maximum=maximum.sort_values(by=\"High margin\")\n",
    "maximum"
   ]
  },
  {
   "cell_type": "markdown",
   "id": "1b6a76b5",
   "metadata": {},
   "source": [
    "The gap between two indexes is the amout of absolut{lower index}\n",
    "\n",
    "for example any life expectancy between 80 and 84 is absolute High income"
   ]
  },
  {
   "cell_type": "code",
   "execution_count": 68,
   "id": "c863ab53",
   "metadata": {},
   "outputs": [],
   "source": [
    "maximum[\"Low margin\"]=[0,70.3,75.7,79.6]\n",
    "maximum=maximum.drop(\"Low income\",axis=0)"
   ]
  },
  {
   "cell_type": "code",
   "execution_count": 73,
   "id": "254ff37c",
   "metadata": {},
   "outputs": [
    {
     "data": {
      "text/html": [
       "<div>\n",
       "<style scoped>\n",
       "    .dataframe tbody tr th:only-of-type {\n",
       "        vertical-align: middle;\n",
       "    }\n",
       "\n",
       "    .dataframe tbody tr th {\n",
       "        vertical-align: top;\n",
       "    }\n",
       "\n",
       "    .dataframe thead th {\n",
       "        text-align: right;\n",
       "    }\n",
       "</style>\n",
       "<table border=\"1\" class=\"dataframe\">\n",
       "  <thead>\n",
       "    <tr style=\"text-align: right;\">\n",
       "      <th></th>\n",
       "      <th>High margin</th>\n",
       "      <th>Low margin</th>\n",
       "    </tr>\n",
       "    <tr>\n",
       "      <th>Income Group</th>\n",
       "      <th></th>\n",
       "      <th></th>\n",
       "    </tr>\n",
       "  </thead>\n",
       "  <tbody>\n",
       "    <tr>\n",
       "      <th>Lower middle income</th>\n",
       "      <td>75.777732</td>\n",
       "      <td>70.3</td>\n",
       "    </tr>\n",
       "    <tr>\n",
       "      <th>Upper middle income</th>\n",
       "      <td>79.600000</td>\n",
       "      <td>75.7</td>\n",
       "    </tr>\n",
       "    <tr>\n",
       "      <th>High income</th>\n",
       "      <td>84.278049</td>\n",
       "      <td>79.6</td>\n",
       "    </tr>\n",
       "  </tbody>\n",
       "</table>\n",
       "</div>"
      ],
      "text/plain": [
       "                     High margin  Low margin\n",
       "Income Group                                \n",
       "Lower middle income    75.777732        70.3\n",
       "Upper middle income    79.600000        75.7\n",
       "High income            84.278049        79.6"
      ]
     },
     "execution_count": 73,
     "metadata": {},
     "output_type": "execute_result"
    }
   ],
   "source": [
    "maximum"
   ]
  },
  {
   "cell_type": "code",
   "execution_count": 171,
   "id": "3a3fd034",
   "metadata": {},
   "outputs": [],
   "source": [
    "df=df.reset_index()"
   ]
  },
  {
   "cell_type": "code",
   "execution_count": 172,
   "id": "5f9be356",
   "metadata": {},
   "outputs": [],
   "source": [
    "df=df.drop(\"index\",axis=1)"
   ]
  },
  {
   "cell_type": "code",
   "execution_count": 144,
   "id": "aac7642b",
   "metadata": {},
   "outputs": [],
   "source": [
    "import numpy as np"
   ]
  },
  {
   "cell_type": "code",
   "execution_count": 200,
   "id": "06bd52c1",
   "metadata": {},
   "outputs": [],
   "source": [
    "frame=[]\n",
    "for x in range(len(df[\"Life Expectancy\"])):\n",
    "    if pd.isnull(df[\"Income Group\"][x]):\n",
    "        if x<le[\"High margin\"][2] and x>le[\"Low margin\"][2]:\n",
    "            frame.append(\"High income\")\n",
    "        elif x<le[\"High margin\"][1] and x>le[\"Low margin\"][1]:\n",
    "            frame.append(\"Upper middle income\")\n",
    "        elif x<le[\"High margin\"][0] and x>le[\"Low margin\"][0]:\n",
    "            frame.append(\"Lower middle income\")\n",
    "        else:\n",
    "            frame.append(\"Low income\")\n",
    "    else:\n",
    "        frame.append(df[\"Income Group\"][x])"
   ]
  },
  {
   "cell_type": "code",
   "execution_count": 202,
   "id": "60fac7cb",
   "metadata": {},
   "outputs": [],
   "source": [
    "df[\"Income Group\"]=frame"
   ]
  },
  {
   "cell_type": "code",
   "execution_count": 204,
   "id": "926a5613",
   "metadata": {},
   "outputs": [
    {
     "data": {
      "text/plain": [
       "Country            0\n",
       "Income Group       0\n",
       "Year               0\n",
       "Life Expectancy    0\n",
       "dtype: int64"
      ]
     },
     "execution_count": 204,
     "metadata": {},
     "output_type": "execute_result"
    }
   ],
   "source": [
    "df.isnull().sum()"
   ]
  },
  {
   "cell_type": "markdown",
   "id": "55e3040b",
   "metadata": {},
   "source": [
    "Now lets replace non numeric with numeric ones "
   ]
  },
  {
   "cell_type": "code",
   "execution_count": 207,
   "id": "8ce95f72",
   "metadata": {},
   "outputs": [],
   "source": [
    "frame=[]\n",
    "for x in range(len(df[\"Income Group\"])):\n",
    "    if(df[\"Income Group\"][x]==\"High income\"):\n",
    "        frame.append(0)\n",
    "    elif(df[\"Income Group\"][x]==\"Upper middle income\"):\n",
    "        frame.append(1)\n",
    "    elif(df[\"Income Group\"][x]==\"Lower middle income\"):\n",
    "        frame.append(2)\n",
    "    else:\n",
    "        frame.append(3)"
   ]
  },
  {
   "cell_type": "code",
   "execution_count": 209,
   "id": "8d8a6192",
   "metadata": {},
   "outputs": [],
   "source": [
    "df[\"Income Group\"]=frame"
   ]
  },
  {
   "cell_type": "code",
   "execution_count": 210,
   "id": "72b4aedd",
   "metadata": {},
   "outputs": [
    {
     "data": {
      "text/html": [
       "<div>\n",
       "<style scoped>\n",
       "    .dataframe tbody tr th:only-of-type {\n",
       "        vertical-align: middle;\n",
       "    }\n",
       "\n",
       "    .dataframe tbody tr th {\n",
       "        vertical-align: top;\n",
       "    }\n",
       "\n",
       "    .dataframe thead th {\n",
       "        text-align: right;\n",
       "    }\n",
       "</style>\n",
       "<table border=\"1\" class=\"dataframe\">\n",
       "  <thead>\n",
       "    <tr style=\"text-align: right;\">\n",
       "      <th></th>\n",
       "      <th>Country</th>\n",
       "      <th>Income Group</th>\n",
       "      <th>Year</th>\n",
       "      <th>Life Expectancy</th>\n",
       "    </tr>\n",
       "  </thead>\n",
       "  <tbody>\n",
       "    <tr>\n",
       "      <th>0</th>\n",
       "      <td>Aruba</td>\n",
       "      <td>0</td>\n",
       "      <td>1960</td>\n",
       "      <td>65.569366</td>\n",
       "    </tr>\n",
       "    <tr>\n",
       "      <th>1</th>\n",
       "      <td>Afghanistan</td>\n",
       "      <td>3</td>\n",
       "      <td>1960</td>\n",
       "      <td>32.328512</td>\n",
       "    </tr>\n",
       "    <tr>\n",
       "      <th>2</th>\n",
       "      <td>Angola</td>\n",
       "      <td>2</td>\n",
       "      <td>1960</td>\n",
       "      <td>32.984829</td>\n",
       "    </tr>\n",
       "    <tr>\n",
       "      <th>3</th>\n",
       "      <td>Albania</td>\n",
       "      <td>1</td>\n",
       "      <td>1960</td>\n",
       "      <td>62.254366</td>\n",
       "    </tr>\n",
       "    <tr>\n",
       "      <th>4</th>\n",
       "      <td>Arab World</td>\n",
       "      <td>3</td>\n",
       "      <td>1960</td>\n",
       "      <td>46.852780</td>\n",
       "    </tr>\n",
       "  </tbody>\n",
       "</table>\n",
       "</div>"
      ],
      "text/plain": [
       "       Country  Income Group  Year  Life Expectancy\n",
       "0        Aruba             0  1960        65.569366\n",
       "1  Afghanistan             3  1960        32.328512\n",
       "2       Angola             2  1960        32.984829\n",
       "3      Albania             1  1960        62.254366\n",
       "4   Arab World             3  1960        46.852780"
      ]
     },
     "execution_count": 210,
     "metadata": {},
     "output_type": "execute_result"
    }
   ],
   "source": [
    "df.head()"
   ]
  },
  {
   "cell_type": "markdown",
   "id": "543715f6",
   "metadata": {},
   "source": [
    "# Now that our dataframe is acceptable let's get some general information of it"
   ]
  },
  {
   "cell_type": "code",
   "execution_count": 256,
   "id": "50f44a3e",
   "metadata": {},
   "outputs": [
    {
     "data": {
      "text/plain": [
       "<AxesSubplot:xlabel='Life Expectancy', ylabel='Count'>"
      ]
     },
     "execution_count": 256,
     "metadata": {},
     "output_type": "execute_result"
    },
    {
     "data": {
      "image/png": "[encoded data removed]",
      "text/plain": [
       "<Figure size 432x288 with 1 Axes>"
      ]
     },
     "metadata": {
      "needs_background": "light"
     },
     "output_type": "display_data"
    }
   ],
   "source": [
    "sns.histplot(df[\"Life Expectancy\"])"
   ]
  },
  {
   "cell_type": "code",
   "execution_count": 216,
   "id": "37747e89",
   "metadata": {},
   "outputs": [
    {
     "data": {
      "image/png": "[encoded data removed]",
      "text/plain": [
       "<Figure size 3600x720 with 1 Axes>"
      ]
     },
     "metadata": {
      "needs_background": "light"
     },
     "output_type": "display_data"
    }
   ],
   "source": [
    "plt.figure(figsize=(50,10))\n",
    "sns.barplot(data=df,x=\"Country\",y=\"Life Expectancy\")\n",
    "plt.xticks(rotation=90)\n",
    "plt.show()"
   ]
  },
  {
   "cell_type": "code",
   "execution_count": 217,
   "id": "db0e62e9",
   "metadata": {},
   "outputs": [
    {
     "data": {
      "text/plain": [
       "<AxesSubplot:xlabel='Year', ylabel='Life Expectancy'>"
      ]
     },
     "execution_count": 217,
     "metadata": {},
     "output_type": "execute_result"
    },
    {
     "data": {
      "image/png": "[encoded data removed]",
      "text/plain": [
       "<Figure size 432x288 with 1 Axes>"
      ]
     },
     "metadata": {
      "needs_background": "light"
     },
     "output_type": "display_data"
    }
   ],
   "source": [
    "sns.lineplot(data=df,x=\"Year\",y=\"Life Expectancy\")"
   ]
  },
  {
   "cell_type": "markdown",
   "id": "abf973c1",
   "metadata": {},
   "source": [
    "In order to replace countries with numbers I have to use get dummies which I do not like becaude it makes dataset look messed up but due to the number of countries I have to use it"
   ]
  },
  {
   "cell_type": "code",
   "execution_count": 218,
   "id": "c0013caa",
   "metadata": {},
   "outputs": [],
   "source": [
    "frame=[]\n",
    "frame=pd.get_dummies(df[\"Country\"],drop_first=True)"
   ]
  },
  {
   "cell_type": "code",
   "execution_count": 220,
   "id": "d7d12b9e",
   "metadata": {},
   "outputs": [],
   "source": [
    "df=df.drop(\"Country\",axis=1)"
   ]
  },
  {
   "cell_type": "code",
   "execution_count": 221,
   "id": "3cefd969",
   "metadata": {},
   "outputs": [],
   "source": [
    "df=pd.concat([frame,df],axis=1)"
   ]
  },
  {
   "cell_type": "code",
   "execution_count": 222,
   "id": "8e9dc106",
   "metadata": {},
   "outputs": [
    {
     "data": {
      "text/html": [
       "<div>\n",
       "<style scoped>\n",
       "    .dataframe tbody tr th:only-of-type {\n",
       "        vertical-align: middle;\n",
       "    }\n",
       "\n",
       "    .dataframe tbody tr th {\n",
       "        vertical-align: top;\n",
       "    }\n",
       "\n",
       "    .dataframe thead th {\n",
       "        text-align: right;\n",
       "    }\n",
       "</style>\n",
       "<table border=\"1\" class=\"dataframe\">\n",
       "  <thead>\n",
       "    <tr style=\"text-align: right;\">\n",
       "      <th></th>\n",
       "      <th>Albania</th>\n",
       "      <th>Algeria</th>\n",
       "      <th>Angola</th>\n",
       "      <th>Antigua and Barbuda</th>\n",
       "      <th>Arab World</th>\n",
       "      <th>Argentina</th>\n",
       "      <th>Armenia</th>\n",
       "      <th>Aruba</th>\n",
       "      <th>Australia</th>\n",
       "      <th>Austria</th>\n",
       "      <th>...</th>\n",
       "      <th>Vietnam</th>\n",
       "      <th>Virgin Islands (U.S.)</th>\n",
       "      <th>West Bank and Gaza</th>\n",
       "      <th>World</th>\n",
       "      <th>Yemen, Rep.</th>\n",
       "      <th>Zambia</th>\n",
       "      <th>Zimbabwe</th>\n",
       "      <th>Income Group</th>\n",
       "      <th>Year</th>\n",
       "      <th>Life Expectancy</th>\n",
       "    </tr>\n",
       "  </thead>\n",
       "  <tbody>\n",
       "    <tr>\n",
       "      <th>0</th>\n",
       "      <td>0</td>\n",
       "      <td>0</td>\n",
       "      <td>0</td>\n",
       "      <td>0</td>\n",
       "      <td>0</td>\n",
       "      <td>0</td>\n",
       "      <td>0</td>\n",
       "      <td>1</td>\n",
       "      <td>0</td>\n",
       "      <td>0</td>\n",
       "      <td>...</td>\n",
       "      <td>0</td>\n",
       "      <td>0</td>\n",
       "      <td>0</td>\n",
       "      <td>0</td>\n",
       "      <td>0</td>\n",
       "      <td>0</td>\n",
       "      <td>0</td>\n",
       "      <td>0</td>\n",
       "      <td>1960</td>\n",
       "      <td>65.569366</td>\n",
       "    </tr>\n",
       "    <tr>\n",
       "      <th>1</th>\n",
       "      <td>0</td>\n",
       "      <td>0</td>\n",
       "      <td>0</td>\n",
       "      <td>0</td>\n",
       "      <td>0</td>\n",
       "      <td>0</td>\n",
       "      <td>0</td>\n",
       "      <td>0</td>\n",
       "      <td>0</td>\n",
       "      <td>0</td>\n",
       "      <td>...</td>\n",
       "      <td>0</td>\n",
       "      <td>0</td>\n",
       "      <td>0</td>\n",
       "      <td>0</td>\n",
       "      <td>0</td>\n",
       "      <td>0</td>\n",
       "      <td>0</td>\n",
       "      <td>3</td>\n",
       "      <td>1960</td>\n",
       "      <td>32.328512</td>\n",
       "    </tr>\n",
       "    <tr>\n",
       "      <th>2</th>\n",
       "      <td>0</td>\n",
       "      <td>0</td>\n",
       "      <td>1</td>\n",
       "      <td>0</td>\n",
       "      <td>0</td>\n",
       "      <td>0</td>\n",
       "      <td>0</td>\n",
       "      <td>0</td>\n",
       "      <td>0</td>\n",
       "      <td>0</td>\n",
       "      <td>...</td>\n",
       "      <td>0</td>\n",
       "      <td>0</td>\n",
       "      <td>0</td>\n",
       "      <td>0</td>\n",
       "      <td>0</td>\n",
       "      <td>0</td>\n",
       "      <td>0</td>\n",
       "      <td>2</td>\n",
       "      <td>1960</td>\n",
       "      <td>32.984829</td>\n",
       "    </tr>\n",
       "    <tr>\n",
       "      <th>3</th>\n",
       "      <td>1</td>\n",
       "      <td>0</td>\n",
       "      <td>0</td>\n",
       "      <td>0</td>\n",
       "      <td>0</td>\n",
       "      <td>0</td>\n",
       "      <td>0</td>\n",
       "      <td>0</td>\n",
       "      <td>0</td>\n",
       "      <td>0</td>\n",
       "      <td>...</td>\n",
       "      <td>0</td>\n",
       "      <td>0</td>\n",
       "      <td>0</td>\n",
       "      <td>0</td>\n",
       "      <td>0</td>\n",
       "      <td>0</td>\n",
       "      <td>0</td>\n",
       "      <td>1</td>\n",
       "      <td>1960</td>\n",
       "      <td>62.254366</td>\n",
       "    </tr>\n",
       "    <tr>\n",
       "      <th>4</th>\n",
       "      <td>0</td>\n",
       "      <td>0</td>\n",
       "      <td>0</td>\n",
       "      <td>0</td>\n",
       "      <td>1</td>\n",
       "      <td>0</td>\n",
       "      <td>0</td>\n",
       "      <td>0</td>\n",
       "      <td>0</td>\n",
       "      <td>0</td>\n",
       "      <td>...</td>\n",
       "      <td>0</td>\n",
       "      <td>0</td>\n",
       "      <td>0</td>\n",
       "      <td>0</td>\n",
       "      <td>0</td>\n",
       "      <td>0</td>\n",
       "      <td>0</td>\n",
       "      <td>3</td>\n",
       "      <td>1960</td>\n",
       "      <td>46.852780</td>\n",
       "    </tr>\n",
       "  </tbody>\n",
       "</table>\n",
       "<p>5 rows × 255 columns</p>\n",
       "</div>"
      ],
      "text/plain": [
       "   Albania  Algeria  Angola  Antigua and Barbuda  Arab World  Argentina  \\\n",
       "0        0        0       0                    0           0          0   \n",
       "1        0        0       0                    0           0          0   \n",
       "2        0        0       1                    0           0          0   \n",
       "3        1        0       0                    0           0          0   \n",
       "4        0        0       0                    0           1          0   \n",
       "\n",
       "   Armenia  Aruba  Australia  Austria  ...  Vietnam  Virgin Islands (U.S.)  \\\n",
       "0        0      1          0        0  ...        0                      0   \n",
       "1        0      0          0        0  ...        0                      0   \n",
       "2        0      0          0        0  ...        0                      0   \n",
       "3        0      0          0        0  ...        0                      0   \n",
       "4        0      0          0        0  ...        0                      0   \n",
       "\n",
       "   West Bank and Gaza  World  Yemen, Rep.  Zambia  Zimbabwe  Income Group  \\\n",
       "0                   0      0            0       0         0             0   \n",
       "1                   0      0            0       0         0             3   \n",
       "2                   0      0            0       0         0             2   \n",
       "3                   0      0            0       0         0             1   \n",
       "4                   0      0            0       0         0             3   \n",
       "\n",
       "   Year  Life Expectancy  \n",
       "0  1960        65.569366  \n",
       "1  1960        32.328512  \n",
       "2  1960        32.984829  \n",
       "3  1960        62.254366  \n",
       "4  1960        46.852780  \n",
       "\n",
       "[5 rows x 255 columns]"
      ]
     },
     "execution_count": 222,
     "metadata": {},
     "output_type": "execute_result"
    }
   ],
   "source": [
    "df.head()"
   ]
  },
  {
   "cell_type": "code",
   "execution_count": 224,
   "id": "38777ad3",
   "metadata": {},
   "outputs": [
    {
     "data": {
      "text/plain": [
       "(13498, 255)"
      ]
     },
     "execution_count": 224,
     "metadata": {},
     "output_type": "execute_result"
    }
   ],
   "source": [
    "df.shape"
   ]
  },
  {
   "cell_type": "code",
   "execution_count": 225,
   "id": "d166f17b",
   "metadata": {},
   "outputs": [],
   "source": [
    "x=df.drop(\"Life Expectancy\",axis=1)\n",
    "y=df[\"Life Expectancy\"]"
   ]
  },
  {
   "cell_type": "code",
   "execution_count": 226,
   "id": "18b73289",
   "metadata": {},
   "outputs": [],
   "source": [
    "from sklearn.model_selection import train_test_split"
   ]
  },
  {
   "cell_type": "code",
   "execution_count": 227,
   "id": "747b126f",
   "metadata": {},
   "outputs": [],
   "source": [
    "xtrain,xtest,ytrain,ytest=train_test_split(x,y)"
   ]
  },
  {
   "cell_type": "markdown",
   "id": "b8283634",
   "metadata": {},
   "source": [
    "# Linear Regression"
   ]
  },
  {
   "cell_type": "code",
   "execution_count": 228,
   "id": "94fb6bca",
   "metadata": {},
   "outputs": [],
   "source": [
    "from sklearn.linear_model import LinearRegression"
   ]
  },
  {
   "cell_type": "code",
   "execution_count": 229,
   "id": "0d40e867",
   "metadata": {},
   "outputs": [],
   "source": [
    "lr=LinearRegression()"
   ]
  },
  {
   "cell_type": "code",
   "execution_count": 230,
   "id": "b97a11af",
   "metadata": {},
   "outputs": [],
   "source": [
    "prediction=lr.fit(xtrain,ytrain).predict(xtest)"
   ]
  },
  {
   "cell_type": "code",
   "execution_count": 231,
   "id": "e32acae3",
   "metadata": {},
   "outputs": [],
   "source": [
    "from sklearn import metrics"
   ]
  },
  {
   "cell_type": "code",
   "execution_count": 232,
   "id": "55558f1f",
   "metadata": {},
   "outputs": [
    {
     "data": {
      "text/plain": [
       "9.593425375399743"
      ]
     },
     "execution_count": 232,
     "metadata": {},
     "output_type": "execute_result"
    }
   ],
   "source": [
    "metrics.mean_squared_error(prediction,ytest)"
   ]
  },
  {
   "cell_type": "code",
   "execution_count": 235,
   "id": "2f8c0961",
   "metadata": {},
   "outputs": [
    {
     "data": {
      "text/plain": [
       "count    13498.000000\n",
       "mean        63.303497\n",
       "std         11.231589\n",
       "min         19.265512\n",
       "25%         55.095858\n",
       "50%         66.081646\n",
       "75%         71.836439\n",
       "max         84.278049\n",
       "Name: Life Expectancy, dtype: float64"
      ]
     },
     "execution_count": 235,
     "metadata": {},
     "output_type": "execute_result"
    }
   ],
   "source": [
    "df[\"Life Expectancy\"].describe()"
   ]
  },
  {
   "cell_type": "markdown",
   "id": "f1afa4d0",
   "metadata": {},
   "source": [
    "so as in general we have a 9.6/63 percent of error(15 %)"
   ]
  },
  {
   "cell_type": "markdown",
   "id": "503e06c9",
   "metadata": {},
   "source": [
    "# KNN"
   ]
  },
  {
   "cell_type": "code",
   "execution_count": 236,
   "id": "fbc8a3ee",
   "metadata": {},
   "outputs": [],
   "source": [
    "from sklearn.neighbors import KNeighborsRegressor"
   ]
  },
  {
   "cell_type": "code",
   "execution_count": 237,
   "id": "b598cd4e",
   "metadata": {},
   "outputs": [],
   "source": [
    "knn=KNeighborsRegressor()"
   ]
  },
  {
   "cell_type": "code",
   "execution_count": 238,
   "id": "5eb8e421",
   "metadata": {},
   "outputs": [],
   "source": [
    "predicion2=knn.fit(xtrain,ytrain).predict(xtest)"
   ]
  },
  {
   "cell_type": "code",
   "execution_count": 241,
   "id": "28cb6ca9",
   "metadata": {},
   "outputs": [
    {
     "data": {
      "text/plain": [
       "40.41956961615843"
      ]
     },
     "execution_count": 241,
     "metadata": {},
     "output_type": "execute_result"
    }
   ],
   "source": [
    "metrics.mean_squared_error(predicion2,ytest)"
   ]
  },
  {
   "cell_type": "markdown",
   "id": "9f3532d7",
   "metadata": {},
   "source": [
    "It did not act well lets tune it"
   ]
  },
  {
   "cell_type": "code",
   "execution_count": 242,
   "id": "742ae3eb",
   "metadata": {},
   "outputs": [],
   "source": [
    "knn=KNeighborsRegressor(weights=\"distance\")"
   ]
  },
  {
   "cell_type": "code",
   "execution_count": 243,
   "id": "8d89b064",
   "metadata": {},
   "outputs": [],
   "source": [
    "temp={\"n_neighbors\":[5,10,15,20,25,30,35,40,45,50,55,60,65,70]}"
   ]
  },
  {
   "cell_type": "code",
   "execution_count": 244,
   "id": "426de427",
   "metadata": {},
   "outputs": [],
   "source": [
    "from sklearn.model_selection import GridSearchCV"
   ]
  },
  {
   "cell_type": "code",
   "execution_count": 245,
   "id": "38bb0f5b",
   "metadata": {},
   "outputs": [],
   "source": [
    "gds=GridSearchCV(knn,temp)"
   ]
  },
  {
   "cell_type": "code",
   "execution_count": 246,
   "id": "fcde74d6",
   "metadata": {},
   "outputs": [],
   "source": [
    "tuned_knn_predicion=gds.fit(xtrain,ytrain).predict(xtest)"
   ]
  },
  {
   "cell_type": "code",
   "execution_count": 248,
   "id": "8b9b8502",
   "metadata": {},
   "outputs": [
    {
     "data": {
      "text/plain": [
       "{'n_neighbors': 5}"
      ]
     },
     "execution_count": 248,
     "metadata": {},
     "output_type": "execute_result"
    }
   ],
   "source": [
    "gds.best_params_"
   ]
  },
  {
   "cell_type": "code",
   "execution_count": 249,
   "id": "bbcaf78b",
   "metadata": {},
   "outputs": [
    {
     "data": {
      "text/plain": [
       "0.703823471660473"
      ]
     },
     "execution_count": 249,
     "metadata": {},
     "output_type": "execute_result"
    }
   ],
   "source": [
    "gds.best_score_"
   ]
  },
  {
   "cell_type": "code",
   "execution_count": 250,
   "id": "0f99d7b2",
   "metadata": {},
   "outputs": [],
   "source": [
    "temp={\"n_neighbors\":[1,2,3,4,5,6,7,8,9]}"
   ]
  },
  {
   "cell_type": "code",
   "execution_count": 251,
   "id": "3024d0c0",
   "metadata": {},
   "outputs": [],
   "source": [
    "gds=GridSearchCV(knn,temp)"
   ]
  },
  {
   "cell_type": "code",
   "execution_count": 252,
   "id": "62defb52",
   "metadata": {},
   "outputs": [],
   "source": [
    "tuned_knn_predicion=gds.fit(xtrain,ytrain).predict(xtest)"
   ]
  },
  {
   "cell_type": "code",
   "execution_count": 253,
   "id": "5995c5ec",
   "metadata": {},
   "outputs": [
    {
     "data": {
      "text/plain": [
       "20.863322416884827"
      ]
     },
     "execution_count": 253,
     "metadata": {},
     "output_type": "execute_result"
    }
   ],
   "source": [
    "metrics.mean_squared_error(tuned_knn_predicion,ytest)"
   ]
  },
  {
   "cell_type": "code",
   "execution_count": 254,
   "id": "7d11af17",
   "metadata": {},
   "outputs": [
    {
     "data": {
      "text/plain": [
       "{'n_neighbors': 2}"
      ]
     },
     "execution_count": 254,
     "metadata": {},
     "output_type": "execute_result"
    }
   ],
   "source": [
    "gds.best_params_"
   ]
  },
  {
   "cell_type": "code",
   "execution_count": 255,
   "id": "38f021aa",
   "metadata": {},
   "outputs": [
    {
     "data": {
      "text/plain": [
       "0.7836844583132916"
      ]
     },
     "execution_count": 255,
     "metadata": {},
     "output_type": "execute_result"
    }
   ],
   "source": [
    "gds.best_score_"
   ]
  },
  {
   "cell_type": "markdown",
   "id": "8276d931",
   "metadata": {},
   "source": [
    "We could not get more than 78 percent lets remove noises and check the results"
   ]
  },
  {
   "cell_type": "markdown",
   "id": "ae3c584c",
   "metadata": {},
   "source": [
    "As a concludion we could get 85 precent with linear regression and 78 with knn the result is that, there is a powerful relation between parameters year and "
   ]
  }
 ],
 "metadata": {
  "kernelspec": {
   "display_name": "Python 3 (ipykernel)",
   "language": "python",
   "name": "python3"
  },
  "language_info": {
   "codemirror_mode": {
    "name": "ipython",
    "version": 3
   },
   "file_extension": ".py",
   "mimetype": "text/x-python",
   "name": "python",
   "nbconvert_exporter": "python",
   "pygments_lexer": "ipython3",
   "version": "3.9.7"
  }
 },
 "nbformat": 4,
 "nbformat_minor": 5
}
