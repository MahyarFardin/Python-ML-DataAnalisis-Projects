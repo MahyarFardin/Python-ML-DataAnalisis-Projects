{
 "cells": [
  {
   "cell_type": "code",
   "execution_count": 1,
   "id": "39701e4c",
   "metadata": {},
   "outputs": [],
   "source": [
    "import pandas as pd\n",
    "import matplotlib.pyplot as plt\n",
    "import seaborn as sns\n",
    "from sklearn.model_selection import train_test_split\n",
    "from sklearn.neighbors import KNeighborsRegressor\n",
    "from sklearn.linear_model import LinearRegression\n",
    "from sklearn.tree import DecisionTreeRegressor\n",
    "from sklearn.ensemble import RandomForestRegressor\n",
    "from sklearn.svm import SVR\n",
    "from sklearn.preprocessing import MinMaxScaler\n",
    "from sklearn.decomposition import PCA\n",
    "from sklearn.model_selection import RandomizedSearchCV\n",
    "from sklearn.metrics import mean_absolute_error\n",
    "%matplotlib inline"
   ]
  },
  {
   "cell_type": "markdown",
   "id": "bf7815da",
   "metadata": {},
   "source": [
    "# Preprocessing"
   ]
  },
  {
   "cell_type": "code",
   "execution_count": 2,
   "id": "09b4faf2",
   "metadata": {},
   "outputs": [],
   "source": [
    "df=pd.read_csv(\"Real estate.csv\")"
   ]
  },
  {
   "cell_type": "code",
   "execution_count": 3,
   "id": "a5d63269",
   "metadata": {},
   "outputs": [
    {
     "data": {
      "text/html": [
       "<div>\n",
       "<style scoped>\n",
       "    .dataframe tbody tr th:only-of-type {\n",
       "        vertical-align: middle;\n",
       "    }\n",
       "\n",
       "    .dataframe tbody tr th {\n",
       "        vertical-align: top;\n",
       "    }\n",
       "\n",
       "    .dataframe thead th {\n",
       "        text-align: right;\n",
       "    }\n",
       "</style>\n",
       "<table border=\"1\" class=\"dataframe\">\n",
       "  <thead>\n",
       "    <tr style=\"text-align: right;\">\n",
       "      <th></th>\n",
       "      <th>No</th>\n",
       "      <th>X1 transaction date</th>\n",
       "      <th>X2 house age</th>\n",
       "      <th>X3 distance to the nearest MRT station</th>\n",
       "      <th>X4 number of convenience stores</th>\n",
       "      <th>X5 latitude</th>\n",
       "      <th>X6 longitude</th>\n",
       "      <th>Y house price of unit area</th>\n",
       "    </tr>\n",
       "  </thead>\n",
       "  <tbody>\n",
       "    <tr>\n",
       "      <th>0</th>\n",
       "      <td>1</td>\n",
       "      <td>2012.917</td>\n",
       "      <td>32.0</td>\n",
       "      <td>84.87882</td>\n",
       "      <td>10</td>\n",
       "      <td>24.98298</td>\n",
       "      <td>121.54024</td>\n",
       "      <td>37.9</td>\n",
       "    </tr>\n",
       "    <tr>\n",
       "      <th>1</th>\n",
       "      <td>2</td>\n",
       "      <td>2012.917</td>\n",
       "      <td>19.5</td>\n",
       "      <td>306.59470</td>\n",
       "      <td>9</td>\n",
       "      <td>24.98034</td>\n",
       "      <td>121.53951</td>\n",
       "      <td>42.2</td>\n",
       "    </tr>\n",
       "    <tr>\n",
       "      <th>2</th>\n",
       "      <td>3</td>\n",
       "      <td>2013.583</td>\n",
       "      <td>13.3</td>\n",
       "      <td>561.98450</td>\n",
       "      <td>5</td>\n",
       "      <td>24.98746</td>\n",
       "      <td>121.54391</td>\n",
       "      <td>47.3</td>\n",
       "    </tr>\n",
       "    <tr>\n",
       "      <th>3</th>\n",
       "      <td>4</td>\n",
       "      <td>2013.500</td>\n",
       "      <td>13.3</td>\n",
       "      <td>561.98450</td>\n",
       "      <td>5</td>\n",
       "      <td>24.98746</td>\n",
       "      <td>121.54391</td>\n",
       "      <td>54.8</td>\n",
       "    </tr>\n",
       "    <tr>\n",
       "      <th>4</th>\n",
       "      <td>5</td>\n",
       "      <td>2012.833</td>\n",
       "      <td>5.0</td>\n",
       "      <td>390.56840</td>\n",
       "      <td>5</td>\n",
       "      <td>24.97937</td>\n",
       "      <td>121.54245</td>\n",
       "      <td>43.1</td>\n",
       "    </tr>\n",
       "  </tbody>\n",
       "</table>\n",
       "</div>"
      ],
      "text/plain": [
       "   No  X1 transaction date  X2 house age  \\\n",
       "0   1             2012.917          32.0   \n",
       "1   2             2012.917          19.5   \n",
       "2   3             2013.583          13.3   \n",
       "3   4             2013.500          13.3   \n",
       "4   5             2012.833           5.0   \n",
       "\n",
       "   X3 distance to the nearest MRT station  X4 number of convenience stores  \\\n",
       "0                                84.87882                               10   \n",
       "1                               306.59470                                9   \n",
       "2                               561.98450                                5   \n",
       "3                               561.98450                                5   \n",
       "4                               390.56840                                5   \n",
       "\n",
       "   X5 latitude  X6 longitude  Y house price of unit area  \n",
       "0     24.98298     121.54024                        37.9  \n",
       "1     24.98034     121.53951                        42.2  \n",
       "2     24.98746     121.54391                        47.3  \n",
       "3     24.98746     121.54391                        54.8  \n",
       "4     24.97937     121.54245                        43.1  "
      ]
     },
     "execution_count": 3,
     "metadata": {},
     "output_type": "execute_result"
    }
   ],
   "source": [
    "df.head()"
   ]
  },
  {
   "cell_type": "code",
   "execution_count": 4,
   "id": "0dc2197e",
   "metadata": {},
   "outputs": [],
   "source": [
    "df=df.drop(\"No\",axis=1)"
   ]
  },
  {
   "cell_type": "code",
   "execution_count": 5,
   "id": "bf69d994",
   "metadata": {},
   "outputs": [],
   "source": [
    "df.columns=[\"transaction date\",\"house age\",\"distance from MRT\",\"number of conv stores\",\"lat\",\"long\",\"prices per unit\"]"
   ]
  },
  {
   "cell_type": "code",
   "execution_count": 6,
   "id": "78e53e99",
   "metadata": {},
   "outputs": [],
   "source": [
    "df[\"transaction date\"]=[int(str(x)[:4]) for x in df[\"transaction date\"]]"
   ]
  },
  {
   "cell_type": "code",
   "execution_count": 7,
   "id": "31a335de",
   "metadata": {},
   "outputs": [],
   "source": [
    "df=df[df[\"distance from MRT\"]<5000]"
   ]
  },
  {
   "cell_type": "code",
   "execution_count": 8,
   "id": "dc7ba7b4",
   "metadata": {},
   "outputs": [],
   "source": [
    "df=df[df[\"prices per unit\"]<100]"
   ]
  },
  {
   "cell_type": "code",
   "execution_count": 9,
   "id": "05a2ff01",
   "metadata": {},
   "outputs": [],
   "source": [
    "x=df.drop(\"prices per unit\",axis=1)\n",
    "y=df[\"prices per unit\"]"
   ]
  },
  {
   "cell_type": "code",
   "execution_count": 10,
   "id": "c0247d94",
   "metadata": {},
   "outputs": [],
   "source": [
    "mms=MinMaxScaler()\n",
    "pca=PCA(.95)"
   ]
  },
  {
   "cell_type": "code",
   "execution_count": 11,
   "id": "24967438",
   "metadata": {},
   "outputs": [],
   "source": [
    "xtrain,xtest,ytrain,ytest=train_test_split(x,y,test_size=.25)"
   ]
  },
  {
   "cell_type": "code",
   "execution_count": 12,
   "id": "899a11ce",
   "metadata": {},
   "outputs": [],
   "source": [
    "xtrain=pd.DataFrame(mms.fit_transform(xtrain),columns=x.columns)\n",
    "xtest=pd.DataFrame(mms.transform(xtest),columns=x.columns)\n",
    "\n",
    "xtrain=pd.DataFrame(mms.fit_transform(xtrain))\n",
    "xtest=pd.DataFrame(mms.transform(xtest))\n",
    "\n",
    "xtrain=pd.DataFrame(pca.fit_transform(xtrain))\n",
    "xtest=pd.DataFrame(pca.transform(xtest))"
   ]
  },
  {
   "cell_type": "code",
   "execution_count": 34,
   "id": "e5f2b2c7",
   "metadata": {},
   "outputs": [],
   "source": [
    "results=[]"
   ]
  },
  {
   "cell_type": "markdown",
   "id": "45438855",
   "metadata": {},
   "source": [
    "**Results plot**"
   ]
  },
  {
   "cell_type": "code",
   "execution_count": 14,
   "id": "5e6d49b4",
   "metadata": {},
   "outputs": [],
   "source": [
    "def Plotter(prediction, ytest):\n",
    "    sns.lineplot(x=range(0,70),y=range(0,70), color=\"r\")\n",
    "    sns.scatterplot(x=prediction,y=ytest)\n",
    "    plt.xlabel(\"prediction\")"
   ]
  },
  {
   "cell_type": "markdown",
   "id": "4b4677da",
   "metadata": {},
   "source": [
    "**Model Constructor**"
   ]
  },
  {
   "cell_type": "code",
   "execution_count": 15,
   "id": "276fa264",
   "metadata": {},
   "outputs": [],
   "source": [
    "def Constructor(model, xtrain, ytrain, xtest, ytest):\n",
    "    print(model)\n",
    "    prediction=model.fit(xtrain,ytrain).predict(xtest)\n",
    "    print(\"mean absolute error: \"+ str(mean_absolute_error(prediction,ytest)))\n",
    "    \n",
    "    Plotter(prediction, ytest)\n",
    "    return mean_absolute_error(prediction,ytest)\n",
    "    "
   ]
  },
  {
   "cell_type": "markdown",
   "id": "1c5d0d65",
   "metadata": {},
   "source": [
    "**Tuner**"
   ]
  },
  {
   "cell_type": "code",
   "execution_count": 16,
   "id": "7d22f9c5",
   "metadata": {},
   "outputs": [],
   "source": [
    "def Tuner(params, model, x, y):\n",
    "    random_search=RandomizedSearchCV(model, params)\n",
    "    random_search.fit(x,y)\n",
    "    print(f\"{random_search.best_score_ = }\")\n",
    "    print(f\"{random_search.best_params_= }\")"
   ]
  },
  {
   "cell_type": "markdown",
   "id": "dbe1c64f",
   "metadata": {},
   "source": [
    "# KNN"
   ]
  },
  {
   "cell_type": "code",
   "execution_count": 17,
   "id": "ee484a6d",
   "metadata": {},
   "outputs": [
    {
     "name": "stdout",
     "output_type": "stream",
     "text": [
      "random_search.best_score_ = 0.7043186798747121\n",
      "random_search.best_params_= {'weights': 'distance', 'n_neighbors': 14, 'leaf_size': 70}\n"
     ]
    }
   ],
   "source": [
    "Tuner({\"n_neighbors\":[x for x in range(1,20)], \"weights\":[\"uniform\",\"distance\"],\n",
    "\"leaf_size\":[x for x in range(10,100,10)]}\n",
    ", KNeighborsRegressor(), x, y)"
   ]
  },
  {
   "cell_type": "code",
   "execution_count": 35,
   "id": "adb6275b",
   "metadata": {},
   "outputs": [
    {
     "name": "stdout",
     "output_type": "stream",
     "text": [
      "KNeighborsRegressor(leaf_size=70, n_neighbors=14, weights='distance')\n",
      "mean absolute error: 5.234229825527957\n"
     ]
    },
    {
     "data": {
      "image/png": "[encoded data removed]",
      "text/plain": [
       "<Figure size 432x288 with 1 Axes>"
      ]
     },
     "metadata": {
      "needs_background": "light"
     },
     "output_type": "display_data"
    }
   ],
   "source": [
    "results.append(Constructor(KNeighborsRegressor(weights=\"distance\", n_neighbors=14, leaf_size=70),xtrain, ytrain, xtest, ytest))"
   ]
  },
  {
   "cell_type": "markdown",
   "id": "b5c0254e",
   "metadata": {},
   "source": [
    "# LR"
   ]
  },
  {
   "cell_type": "code",
   "execution_count": 19,
   "id": "b950c1bd",
   "metadata": {},
   "outputs": [
    {
     "name": "stdout",
     "output_type": "stream",
     "text": [
      "random_search.best_score_ = 0.5993791577516816\n",
      "random_search.best_params_= {'fit_intercept': 'True'}\n"
     ]
    },
    {
     "name": "stderr",
     "output_type": "stream",
     "text": [
      "/home/mahyar/.local/lib/python3.8/site-packages/sklearn/model_selection/_search.py:292: UserWarning: The total space of parameters 2 is smaller than n_iter=10. Running 2 iterations. For exhaustive searches, use GridSearchCV.\n",
      "  warnings.warn(\n"
     ]
    }
   ],
   "source": [
    "Tuner({\"fit_intercept\":[\"True\",\"False\"]}\n",
    ", LinearRegression(), x, y)"
   ]
  },
  {
   "cell_type": "code",
   "execution_count": 36,
   "id": "7e9293bd",
   "metadata": {},
   "outputs": [
    {
     "name": "stdout",
     "output_type": "stream",
     "text": [
      "LinearRegression()\n",
      "mean absolute error: 6.719850533110686\n"
     ]
    },
    {
     "data": {
      "image/png": "[encoded data removed]",
      "text/plain": [
       "<Figure size 432x288 with 1 Axes>"
      ]
     },
     "metadata": {
      "needs_background": "light"
     },
     "output_type": "display_data"
    }
   ],
   "source": [
    "results.append(Constructor(LinearRegression(),xtrain, ytrain, xtest, ytest))"
   ]
  },
  {
   "cell_type": "markdown",
   "id": "caef82eb",
   "metadata": {},
   "source": [
    "# DTC"
   ]
  },
  {
   "cell_type": "code",
   "execution_count": 21,
   "id": "cda02a4d",
   "metadata": {},
   "outputs": [
    {
     "name": "stdout",
     "output_type": "stream",
     "text": [
      "random_search.best_score_ = 0.6593587498839063\n",
      "random_search.best_params_= {'splitter': 'best', 'min_samples_split': 0.2, 'min_samples_leaf': 0.1, 'max_depth': 10}\n"
     ]
    }
   ],
   "source": [
    "Tuner({\"splitter\":['best',\"random\"], \"max_depth\":[x for x in range(5,20)], \n",
    "        \"min_samples_split\":[x/10 for x in range(1,11)], \n",
    "        \"min_samples_leaf\":[x/10 for x in range(1,6)]}\n",
    ", DecisionTreeRegressor(), x, y)"
   ]
  },
  {
   "cell_type": "code",
   "execution_count": 37,
   "id": "8e9294c9",
   "metadata": {},
   "outputs": [
    {
     "name": "stdout",
     "output_type": "stream",
     "text": [
      "DecisionTreeRegressor(max_depth=10, min_samples_leaf=0.1, min_samples_split=0.2)\n",
      "mean absolute error: 6.416357798701025\n"
     ]
    },
    {
     "data": {
      "image/png": "[encoded data removed]",
      "text/plain": [
       "<Figure size 432x288 with 1 Axes>"
      ]
     },
     "metadata": {
      "needs_background": "light"
     },
     "output_type": "display_data"
    }
   ],
   "source": [
    "results.append(Constructor(DecisionTreeRegressor(min_samples_split=.2, min_samples_leaf=.1,max_depth=10)\n",
    ",xtrain, ytrain, xtest, ytest))"
   ]
  },
  {
   "cell_type": "markdown",
   "id": "18c41f5c",
   "metadata": {},
   "source": [
    "# RFC"
   ]
  },
  {
   "cell_type": "code",
   "execution_count": 23,
   "id": "63d5fd0a",
   "metadata": {},
   "outputs": [
    {
     "name": "stdout",
     "output_type": "stream",
     "text": [
      "random_search.best_score_ = 0.6564267494400999\n",
      "random_search.best_params_= {'n_estimators': 200, 'min_samples_split': 0.2, 'min_samples_leaf': 0.1}\n"
     ]
    }
   ],
   "source": [
    "Tuner({\"n_estimators\":[x for x in range(100,600,100)], \"min_samples_split\":[.2,.5,.7], \n",
    "    \"min_samples_leaf\":[x/10 for x in range(1,6)]}\n",
    ", RandomForestRegressor(), x, y)"
   ]
  },
  {
   "cell_type": "code",
   "execution_count": 38,
   "id": "7fce3ad5",
   "metadata": {},
   "outputs": [
    {
     "name": "stdout",
     "output_type": "stream",
     "text": [
      "RandomForestRegressor(min_samples_leaf=0.1, min_samples_split=0.2,\n",
      "                      n_estimators=200)\n",
      "mean absolute error: 5.9356104885714105\n"
     ]
    },
    {
     "data": {
      "image/png": "[encoded data removed]",
      "text/plain": [
       "<Figure size 432x288 with 1 Axes>"
      ]
     },
     "metadata": {
      "needs_background": "light"
     },
     "output_type": "display_data"
    }
   ],
   "source": [
    "results.append(Constructor(RandomForestRegressor(n_estimators=200, min_samples_leaf=.1, \n",
    "min_samples_split=.2)\n",
    ",xtrain, ytrain, xtest, ytest))"
   ]
  },
  {
   "cell_type": "markdown",
   "id": "2972df42",
   "metadata": {},
   "source": [
    "# SVR"
   ]
  },
  {
   "cell_type": "code",
   "execution_count": 25,
   "id": "417efe8b",
   "metadata": {},
   "outputs": [
    {
     "name": "stdout",
     "output_type": "stream",
     "text": [
      "random_search.best_score_ = 0.6123410483087796\n",
      "random_search.best_params_= {'tol': 0.01, 'epsilon': 0.1, 'C': 1000}\n"
     ]
    }
   ],
   "source": [
    "Tuner({\"tol\":[0.001,.1,.01,.0001], \"C\":[1,10,100,1000], \"epsilon\":[0.1,1,10,.01]}\n",
    ", SVR(), x, y)"
   ]
  },
  {
   "cell_type": "code",
   "execution_count": 39,
   "id": "5d896b97",
   "metadata": {},
   "outputs": [
    {
     "name": "stdout",
     "output_type": "stream",
     "text": [
      "SVR(C=1000, tol=0.01)\n",
      "mean absolute error: 6.16843302804678\n"
     ]
    },
    {
     "data": {
      "image/png": "[encoded data removed]",
      "text/plain": [
       "<Figure size 432x288 with 1 Axes>"
      ]
     },
     "metadata": {
      "needs_background": "light"
     },
     "output_type": "display_data"
    }
   ],
   "source": [
    "results.append(Constructor(SVR(tol=.01,C=1000,epsilon=.1),xtrain, ytrain, xtest, ytest))"
   ]
  },
  {
   "cell_type": "markdown",
   "id": "c45c7f2f",
   "metadata": {},
   "source": [
    "# Results"
   ]
  },
  {
   "cell_type": "code",
   "execution_count": 40,
   "id": "24abc7db",
   "metadata": {},
   "outputs": [
    {
     "data": {
      "text/plain": [
       "<matplotlib.legend.Legend at 0x7f2b8bd4b940>"
      ]
     },
     "execution_count": 40,
     "metadata": {},
     "output_type": "execute_result"
    },
    {
     "data": {
      "image/png": "[encoded data removed]",
      "text/plain": [
       "<Figure size 432x288 with 1 Axes>"
      ]
     },
     "metadata": {
      "needs_background": "light"
     },
     "output_type": "display_data"
    }
   ],
   "source": [
    "sns.lineplot(x=[\"kkr\",\"lr\",\"dtcr\",\"rfcr\",\"svr\"],y=results)\n",
    "plt.legend([\"scaled\",\"pca\",\"pca-scaled\"])"
   ]
  }
 ],
 "metadata": {
  "kernelspec": {
   "display_name": "Python 3 (ipykernel)",
   "language": "python",
   "name": "python3"
  },
  "language_info": {
   "codemirror_mode": {
    "name": "ipython",
    "version": 3
   },
   "file_extension": ".py",
   "mimetype": "text/x-python",
   "name": "python",
   "nbconvert_exporter": "python",
   "pygments_lexer": "ipython3",
   "version": "3.8.10"
  }
 },
 "nbformat": 4,
 "nbformat_minor": 5
}
