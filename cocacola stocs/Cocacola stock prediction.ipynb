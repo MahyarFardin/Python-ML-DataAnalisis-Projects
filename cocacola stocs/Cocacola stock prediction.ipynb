{
 "cells": [
  {
   "cell_type": "markdown",
   "id": "0b8a7745",
   "metadata": {},
   "source": [
    "# Importind liberaries\n",
    "\n",
    "**this is a dataset of cocacola's stack from 90s till now \n",
    "\n",
    "Link to dataset:https://www.kaggle.com/yiyiwang0826/cocacola-excel"
   ]
  },
  {
   "cell_type": "code",
   "execution_count": 13,
   "id": "8e104304",
   "metadata": {},
   "outputs": [],
   "source": [
    "import pandas as pd\n",
    "import seaborn as sb\n",
    "import numpy as np\n",
    "from sklearn.model_selection import train_test_split\n",
    "from sklearn import metrics"
   ]
  },
  {
   "cell_type": "code",
   "execution_count": 82,
   "id": "cf208ca8",
   "metadata": {},
   "outputs": [
    {
     "name": "stdout",
     "output_type": "stream",
     "text": [
      "<class 'pandas.core.frame.DataFrame'>\n",
      "RangeIndex: 15096 entries, 0 to 15095\n",
      "Data columns (total 7 columns):\n",
      " #   Column     Non-Null Count  Dtype  \n",
      "---  ------     --------------  -----  \n",
      " 0   Date       15096 non-null  object \n",
      " 1   Open       15096 non-null  float64\n",
      " 2   High       15096 non-null  float64\n",
      " 3   Low        15096 non-null  float64\n",
      " 4   Close      15096 non-null  float64\n",
      " 5   Adj Close  15096 non-null  float64\n",
      " 6   Volume     15096 non-null  int64  \n",
      "dtypes: float64(5), int64(1), object(1)\n",
      "memory usage: 766.7+ KB\n"
     ]
    }
   ],
   "source": [
    "data=pd.read_csv(\"Desktop/data/COCO COLA.csv\")\n",
    "data.info()"
   ]
  },
  {
   "cell_type": "markdown",
   "id": "125428a9",
   "metadata": {},
   "source": [
    "# Preprocessing"
   ]
  },
  {
   "cell_type": "markdown",
   "id": "206b3bcd",
   "metadata": {},
   "source": [
    "I dropped my data column here because that was not numeric, I will transform it somehow to numeric data in the end and I ll apply my model on it  "
   ]
  },
  {
   "cell_type": "code",
   "execution_count": 69,
   "id": "1aa11da3",
   "metadata": {},
   "outputs": [
    {
     "data": {
      "text/html": [
       "<div>\n",
       "<style scoped>\n",
       "    .dataframe tbody tr th:only-of-type {\n",
       "        vertical-align: middle;\n",
       "    }\n",
       "\n",
       "    .dataframe tbody tr th {\n",
       "        vertical-align: top;\n",
       "    }\n",
       "\n",
       "    .dataframe thead th {\n",
       "        text-align: right;\n",
       "    }\n",
       "</style>\n",
       "<table border=\"1\" class=\"dataframe\">\n",
       "  <thead>\n",
       "    <tr style=\"text-align: right;\">\n",
       "      <th></th>\n",
       "      <th>Date</th>\n",
       "      <th>Open</th>\n",
       "      <th>High</th>\n",
       "      <th>Low</th>\n",
       "      <th>Close</th>\n",
       "      <th>Adj Close</th>\n",
       "      <th>Volume</th>\n",
       "    </tr>\n",
       "  </thead>\n",
       "  <tbody>\n",
       "    <tr>\n",
       "      <th>0</th>\n",
       "      <td>1962-01-02</td>\n",
       "      <td>0.263021</td>\n",
       "      <td>0.270182</td>\n",
       "      <td>0.263021</td>\n",
       "      <td>0.263021</td>\n",
       "      <td>0.051133</td>\n",
       "      <td>806400</td>\n",
       "    </tr>\n",
       "    <tr>\n",
       "      <th>1</th>\n",
       "      <td>1962-01-03</td>\n",
       "      <td>0.259115</td>\n",
       "      <td>0.259115</td>\n",
       "      <td>0.253255</td>\n",
       "      <td>0.257161</td>\n",
       "      <td>0.049994</td>\n",
       "      <td>1574400</td>\n",
       "    </tr>\n",
       "    <tr>\n",
       "      <th>2</th>\n",
       "      <td>1962-01-04</td>\n",
       "      <td>0.257813</td>\n",
       "      <td>0.261068</td>\n",
       "      <td>0.257813</td>\n",
       "      <td>0.259115</td>\n",
       "      <td>0.050374</td>\n",
       "      <td>844800</td>\n",
       "    </tr>\n",
       "    <tr>\n",
       "      <th>3</th>\n",
       "      <td>1962-01-05</td>\n",
       "      <td>0.259115</td>\n",
       "      <td>0.262370</td>\n",
       "      <td>0.252604</td>\n",
       "      <td>0.253255</td>\n",
       "      <td>0.049234</td>\n",
       "      <td>1420800</td>\n",
       "    </tr>\n",
       "    <tr>\n",
       "      <th>4</th>\n",
       "      <td>1962-01-08</td>\n",
       "      <td>0.251302</td>\n",
       "      <td>0.251302</td>\n",
       "      <td>0.245768</td>\n",
       "      <td>0.250651</td>\n",
       "      <td>0.048728</td>\n",
       "      <td>2035200</td>\n",
       "    </tr>\n",
       "  </tbody>\n",
       "</table>\n",
       "</div>"
      ],
      "text/plain": [
       "         Date      Open      High       Low     Close  Adj Close   Volume\n",
       "0  1962-01-02  0.263021  0.270182  0.263021  0.263021   0.051133   806400\n",
       "1  1962-01-03  0.259115  0.259115  0.253255  0.257161   0.049994  1574400\n",
       "2  1962-01-04  0.257813  0.261068  0.257813  0.259115   0.050374   844800\n",
       "3  1962-01-05  0.259115  0.262370  0.252604  0.253255   0.049234  1420800\n",
       "4  1962-01-08  0.251302  0.251302  0.245768  0.250651   0.048728  2035200"
      ]
     },
     "execution_count": 69,
     "metadata": {},
     "output_type": "execute_result"
    }
   ],
   "source": [
    "data=data.drop(\"Date\",axis=1)\n",
    "data.head()"
   ]
  },
  {
   "cell_type": "markdown",
   "id": "29259574",
   "metadata": {},
   "source": [
    "**There are lots of datas so i don't need them all I'll just take the last 10 years using the algorythim below"
   ]
  },
  {
   "cell_type": "code",
   "execution_count": 84,
   "id": "c07175c7",
   "metadata": {},
   "outputs": [
    {
     "name": "stdout",
     "output_type": "stream",
     "text": [
      "(3012, 7)\n"
     ]
    },
    {
     "data": {
      "text/html": [
       "<div>\n",
       "<style scoped>\n",
       "    .dataframe tbody tr th:only-of-type {\n",
       "        vertical-align: middle;\n",
       "    }\n",
       "\n",
       "    .dataframe tbody tr th {\n",
       "        vertical-align: top;\n",
       "    }\n",
       "\n",
       "    .dataframe thead th {\n",
       "        text-align: right;\n",
       "    }\n",
       "</style>\n",
       "<table border=\"1\" class=\"dataframe\">\n",
       "  <thead>\n",
       "    <tr style=\"text-align: right;\">\n",
       "      <th></th>\n",
       "      <th>Date</th>\n",
       "      <th>Open</th>\n",
       "      <th>High</th>\n",
       "      <th>Low</th>\n",
       "      <th>Close</th>\n",
       "      <th>Adj Close</th>\n",
       "      <th>Volume</th>\n",
       "    </tr>\n",
       "  </thead>\n",
       "  <tbody>\n",
       "    <tr>\n",
       "      <th>12084</th>\n",
       "      <td>2010-01-04</td>\n",
       "      <td>28.580000</td>\n",
       "      <td>28.610001</td>\n",
       "      <td>28.450001</td>\n",
       "      <td>28.520000</td>\n",
       "      <td>19.646149</td>\n",
       "      <td>13870400</td>\n",
       "    </tr>\n",
       "    <tr>\n",
       "      <th>12085</th>\n",
       "      <td>2010-01-05</td>\n",
       "      <td>28.424999</td>\n",
       "      <td>28.495001</td>\n",
       "      <td>28.070000</td>\n",
       "      <td>28.174999</td>\n",
       "      <td>19.408504</td>\n",
       "      <td>23172400</td>\n",
       "    </tr>\n",
       "    <tr>\n",
       "      <th>12086</th>\n",
       "      <td>2010-01-06</td>\n",
       "      <td>28.174999</td>\n",
       "      <td>28.219999</td>\n",
       "      <td>27.990000</td>\n",
       "      <td>28.165001</td>\n",
       "      <td>19.401609</td>\n",
       "      <td>19264600</td>\n",
       "    </tr>\n",
       "    <tr>\n",
       "      <th>12087</th>\n",
       "      <td>2010-01-07</td>\n",
       "      <td>28.165001</td>\n",
       "      <td>28.184999</td>\n",
       "      <td>27.875000</td>\n",
       "      <td>28.094999</td>\n",
       "      <td>19.353390</td>\n",
       "      <td>13234600</td>\n",
       "    </tr>\n",
       "    <tr>\n",
       "      <th>12088</th>\n",
       "      <td>2010-01-08</td>\n",
       "      <td>27.730000</td>\n",
       "      <td>27.820000</td>\n",
       "      <td>27.375000</td>\n",
       "      <td>27.575001</td>\n",
       "      <td>18.995188</td>\n",
       "      <td>28712400</td>\n",
       "    </tr>\n",
       "  </tbody>\n",
       "</table>\n",
       "</div>"
      ],
      "text/plain": [
       "             Date       Open       High        Low      Close  Adj Close  \\\n",
       "12084  2010-01-04  28.580000  28.610001  28.450001  28.520000  19.646149   \n",
       "12085  2010-01-05  28.424999  28.495001  28.070000  28.174999  19.408504   \n",
       "12086  2010-01-06  28.174999  28.219999  27.990000  28.165001  19.401609   \n",
       "12087  2010-01-07  28.165001  28.184999  27.875000  28.094999  19.353390   \n",
       "12088  2010-01-08  27.730000  27.820000  27.375000  27.575001  18.995188   \n",
       "\n",
       "         Volume  \n",
       "12084  13870400  \n",
       "12085  23172400  \n",
       "12086  19264600  \n",
       "12087  13234600  \n",
       "12088  28712400  "
      ]
     },
     "execution_count": 84,
     "metadata": {},
     "output_type": "execute_result"
    }
   ],
   "source": [
    "data=data[12084:][:]\n",
    "print(data.shape)\n",
    "data.head()"
   ]
  },
  {
   "cell_type": "markdown",
   "id": "bf9fd310",
   "metadata": {},
   "source": [
    "Because I have dropped some data indexing messed up so I should re-index my dataset"
   ]
  },
  {
   "cell_type": "code",
   "execution_count": 88,
   "id": "5cefa955",
   "metadata": {},
   "outputs": [
    {
     "data": {
      "text/html": [
       "<div>\n",
       "<style scoped>\n",
       "    .dataframe tbody tr th:only-of-type {\n",
       "        vertical-align: middle;\n",
       "    }\n",
       "\n",
       "    .dataframe tbody tr th {\n",
       "        vertical-align: top;\n",
       "    }\n",
       "\n",
       "    .dataframe thead th {\n",
       "        text-align: right;\n",
       "    }\n",
       "</style>\n",
       "<table border=\"1\" class=\"dataframe\">\n",
       "  <thead>\n",
       "    <tr style=\"text-align: right;\">\n",
       "      <th></th>\n",
       "      <th>Date</th>\n",
       "      <th>Open</th>\n",
       "      <th>High</th>\n",
       "      <th>Low</th>\n",
       "      <th>Close</th>\n",
       "      <th>Adj Close</th>\n",
       "      <th>Volume</th>\n",
       "    </tr>\n",
       "  </thead>\n",
       "  <tbody>\n",
       "    <tr>\n",
       "      <th>0</th>\n",
       "      <td>2010-01-04</td>\n",
       "      <td>28.580000</td>\n",
       "      <td>28.610001</td>\n",
       "      <td>28.450001</td>\n",
       "      <td>28.520000</td>\n",
       "      <td>19.646149</td>\n",
       "      <td>13870400</td>\n",
       "    </tr>\n",
       "    <tr>\n",
       "      <th>1</th>\n",
       "      <td>2010-01-05</td>\n",
       "      <td>28.424999</td>\n",
       "      <td>28.495001</td>\n",
       "      <td>28.070000</td>\n",
       "      <td>28.174999</td>\n",
       "      <td>19.408504</td>\n",
       "      <td>23172400</td>\n",
       "    </tr>\n",
       "    <tr>\n",
       "      <th>2</th>\n",
       "      <td>2010-01-06</td>\n",
       "      <td>28.174999</td>\n",
       "      <td>28.219999</td>\n",
       "      <td>27.990000</td>\n",
       "      <td>28.165001</td>\n",
       "      <td>19.401609</td>\n",
       "      <td>19264600</td>\n",
       "    </tr>\n",
       "    <tr>\n",
       "      <th>3</th>\n",
       "      <td>2010-01-07</td>\n",
       "      <td>28.165001</td>\n",
       "      <td>28.184999</td>\n",
       "      <td>27.875000</td>\n",
       "      <td>28.094999</td>\n",
       "      <td>19.353390</td>\n",
       "      <td>13234600</td>\n",
       "    </tr>\n",
       "    <tr>\n",
       "      <th>4</th>\n",
       "      <td>2010-01-08</td>\n",
       "      <td>27.730000</td>\n",
       "      <td>27.820000</td>\n",
       "      <td>27.375000</td>\n",
       "      <td>27.575001</td>\n",
       "      <td>18.995188</td>\n",
       "      <td>28712400</td>\n",
       "    </tr>\n",
       "  </tbody>\n",
       "</table>\n",
       "</div>"
      ],
      "text/plain": [
       "         Date       Open       High        Low      Close  Adj Close    Volume\n",
       "0  2010-01-04  28.580000  28.610001  28.450001  28.520000  19.646149  13870400\n",
       "1  2010-01-05  28.424999  28.495001  28.070000  28.174999  19.408504  23172400\n",
       "2  2010-01-06  28.174999  28.219999  27.990000  28.165001  19.401609  19264600\n",
       "3  2010-01-07  28.165001  28.184999  27.875000  28.094999  19.353390  13234600\n",
       "4  2010-01-08  27.730000  27.820000  27.375000  27.575001  18.995188  28712400"
      ]
     },
     "execution_count": 88,
     "metadata": {},
     "output_type": "execute_result"
    }
   ],
   "source": [
    "data.index=range(0,3012)\n",
    "data.head()"
   ]
  },
  {
   "cell_type": "markdown",
   "id": "91074ed3",
   "metadata": {},
   "source": [
    "We see that there are tons of correlation between values except volume so there should some how be a positive linear relation"
   ]
  },
  {
   "cell_type": "code",
   "execution_count": 90,
   "id": "3fcb6cc8",
   "metadata": {},
   "outputs": [
    {
     "data": {
      "text/plain": [
       "<AxesSubplot:>"
      ]
     },
     "execution_count": 90,
     "metadata": {},
     "output_type": "execute_result"
    },
    {
     "data": {
      "image/png": "[encoded data removed]",
      "text/plain": [
       "<Figure size 432x288 with 2 Axes>"
      ]
     },
     "metadata": {
      "needs_background": "light"
     },
     "output_type": "display_data"
    }
   ],
   "source": [
    "sb.heatmap(data.corr(),center=0)"
   ]
  },
  {
   "cell_type": "markdown",
   "id": "dc0f1ddd",
   "metadata": {},
   "source": [
    "This plot shows that we have a good linear relation so it would be our best choise to use linear-regression instead of k-neighbours \n",
    "**but**\n",
    "I will also test that to see the result"
   ]
  },
  {
   "cell_type": "code",
   "execution_count": 92,
   "id": "34579c09",
   "metadata": {},
   "outputs": [
    {
     "name": "stderr",
     "output_type": "stream",
     "text": [
      "C:\\Users\\mahyar_fardin\\anaconda3\\lib\\site-packages\\seaborn\\_decorators.py:36: FutureWarning: Pass the following variables as keyword args: x, y. From version 0.12, the only valid positional argument will be `data`, and passing other arguments without an explicit keyword will result in an error or misinterpretation.\n",
      "  warnings.warn(\n"
     ]
    },
    {
     "data": {
      "text/plain": [
       "<seaborn.axisgrid.JointGrid at 0xb463400>"
      ]
     },
     "execution_count": 92,
     "metadata": {},
     "output_type": "execute_result"
    },
    {
     "data": {
      "image/png": "[encoded data removed]",
      "text/plain": [
       "<Figure size 432x432 with 3 Axes>"
      ]
     },
     "metadata": {
      "needs_background": "light"
     },
     "output_type": "display_data"
    }
   ],
   "source": [
    "sb.jointplot(data.High,data.Low,color=\"green\")"
   ]
  },
  {
   "cell_type": "markdown",
   "id": "e7da2327",
   "metadata": {},
   "source": [
    "Here istad of predicting datasets own datas I tried to make an avrage of max min open and close parameters \n",
    "**Because it would be more logical(I think)**"
   ]
  },
  {
   "cell_type": "code",
   "execution_count": 94,
   "id": "deb21036",
   "metadata": {},
   "outputs": [],
   "source": [
    "######data.mean()#########\n",
    "#Open         1.605620e+01\n",
    "#High         1.618843e+01\n",
    "#Low          1.592188e+01\n",
    "#Close        1.606073e+01\n",
    "#Adj Close    1.136749e+01\n",
    "#Volume       9.032904e+06\n",
    "Sum=[]\n",
    "for x in range(0,len(data[\"Close\"])):\n",
    "    Sum.append(data[\"Open\"][x]+data[\"Close\"][x]+data[\"High\"][x]+data[\"Low\"][x])"
   ]
  },
  {
   "cell_type": "code",
   "execution_count": 95,
   "id": "6c9eff6a",
   "metadata": {},
   "outputs": [
    {
     "data": {
      "text/html": [
       "<div>\n",
       "<style scoped>\n",
       "    .dataframe tbody tr th:only-of-type {\n",
       "        vertical-align: middle;\n",
       "    }\n",
       "\n",
       "    .dataframe tbody tr th {\n",
       "        vertical-align: top;\n",
       "    }\n",
       "\n",
       "    .dataframe thead th {\n",
       "        text-align: right;\n",
       "    }\n",
       "</style>\n",
       "<table border=\"1\" class=\"dataframe\">\n",
       "  <thead>\n",
       "    <tr style=\"text-align: right;\">\n",
       "      <th></th>\n",
       "      <th>sum</th>\n",
       "    </tr>\n",
       "  </thead>\n",
       "  <tbody>\n",
       "    <tr>\n",
       "      <th>0</th>\n",
       "      <td>114.160002</td>\n",
       "    </tr>\n",
       "    <tr>\n",
       "      <th>1</th>\n",
       "      <td>113.164999</td>\n",
       "    </tr>\n",
       "    <tr>\n",
       "      <th>2</th>\n",
       "      <td>112.549999</td>\n",
       "    </tr>\n",
       "    <tr>\n",
       "      <th>3</th>\n",
       "      <td>112.319999</td>\n",
       "    </tr>\n",
       "    <tr>\n",
       "      <th>4</th>\n",
       "      <td>110.500001</td>\n",
       "    </tr>\n",
       "    <tr>\n",
       "      <th>...</th>\n",
       "      <td>...</td>\n",
       "    </tr>\n",
       "    <tr>\n",
       "      <th>3007</th>\n",
       "      <td>229.629997</td>\n",
       "    </tr>\n",
       "    <tr>\n",
       "      <th>3008</th>\n",
       "      <td>230.770001</td>\n",
       "    </tr>\n",
       "    <tr>\n",
       "      <th>3009</th>\n",
       "      <td>231.890003</td>\n",
       "    </tr>\n",
       "    <tr>\n",
       "      <th>3010</th>\n",
       "      <td>233.410005</td>\n",
       "    </tr>\n",
       "    <tr>\n",
       "      <th>3011</th>\n",
       "      <td>232.840001</td>\n",
       "    </tr>\n",
       "  </tbody>\n",
       "</table>\n",
       "<p>3012 rows × 1 columns</p>\n",
       "</div>"
      ],
      "text/plain": [
       "             sum\n",
       "0     114.160002\n",
       "1     113.164999\n",
       "2     112.549999\n",
       "3     112.319999\n",
       "4     110.500001\n",
       "...          ...\n",
       "3007  229.629997\n",
       "3008  230.770001\n",
       "3009  231.890003\n",
       "3010  233.410005\n",
       "3011  232.840001\n",
       "\n",
       "[3012 rows x 1 columns]"
      ]
     },
     "execution_count": 95,
     "metadata": {},
     "output_type": "execute_result"
    }
   ],
   "source": [
    "Sum=pd.DataFrame(Sum,columns=[\"sum\"])"
   ]
  },
  {
   "cell_type": "markdown",
   "id": "dcc17ee4",
   "metadata": {},
   "source": [
    "We have a good normal distribution in sum axis around 170"
   ]
  },
  {
   "cell_type": "code",
   "execution_count": 96,
   "id": "ccf6d4f7",
   "metadata": {},
   "outputs": [
    {
     "data": {
      "text/plain": [
       "<AxesSubplot:ylabel='Count'>"
      ]
     },
     "execution_count": 96,
     "metadata": {},
     "output_type": "execute_result"
    },
    {
     "data": {
      "image/png": "[encoded data removed]",
      "text/plain": [
       "<Figure size 432x288 with 1 Axes>"
      ]
     },
     "metadata": {
      "needs_background": "light"
     },
     "output_type": "display_data"
    }
   ],
   "source": [
    "sb.histplot(Sum)"
   ]
  },
  {
   "cell_type": "code",
   "execution_count": 108,
   "id": "a6794cb9",
   "metadata": {},
   "outputs": [],
   "source": [
    "y=pd.DataFrame(data[\"Close\"])\n",
    "x=pd.DataFrame(data.drop(\"Close\",axis=1))"
   ]
  },
  {
   "cell_type": "code",
   "execution_count": 111,
   "id": "c2e1129d",
   "metadata": {},
   "outputs": [],
   "source": [
    "x_train, x_test, y_train, y_test = train_test_split(x, y, test_size=0.3)"
   ]
  },
  {
   "cell_type": "markdown",
   "id": "920c039a",
   "metadata": {},
   "source": [
    "# First: LinearRegression"
   ]
  },
  {
   "cell_type": "code",
   "execution_count": 112,
   "id": "5782f7a2",
   "metadata": {},
   "outputs": [],
   "source": [
    "from sklearn.linear_model import LinearRegression"
   ]
  },
  {
   "cell_type": "code",
   "execution_count": 113,
   "id": "c93c86ef",
   "metadata": {},
   "outputs": [],
   "source": [
    "lr=LinearRegression()"
   ]
  },
  {
   "cell_type": "code",
   "execution_count": 114,
   "id": "be722be0",
   "metadata": {},
   "outputs": [
    {
     "data": {
      "text/plain": [
       "LinearRegression()"
      ]
     },
     "execution_count": 114,
     "metadata": {},
     "output_type": "execute_result"
    }
   ],
   "source": [
    "lr.fit(x_train,y_train)"
   ]
  },
  {
   "cell_type": "code",
   "execution_count": 115,
   "id": "8192850f",
   "metadata": {},
   "outputs": [],
   "source": [
    "prediction=lr.predict(x_test)"
   ]
  },
  {
   "cell_type": "code",
   "execution_count": 120,
   "id": "15241fb2",
   "metadata": {},
   "outputs": [],
   "source": [
    "import matplotlib.pyplot as plt"
   ]
  },
  {
   "cell_type": "markdown",
   "id": "c3067158",
   "metadata": {},
   "source": [
    "# Evaluateing LR model using plot"
   ]
  },
  {
   "cell_type": "markdown",
   "id": "189e65b0",
   "metadata": {},
   "source": [
    "As we see there is a good mode we have becase it is a total line except one noise we see around **45** so that is a perfect model"
   ]
  },
  {
   "cell_type": "code",
   "execution_count": 122,
   "id": "0e3d3376",
   "metadata": {},
   "outputs": [
    {
     "data": {
      "text/plain": [
       "<matplotlib.collections.PathCollection at 0xb5585e0>"
      ]
     },
     "execution_count": 122,
     "metadata": {},
     "output_type": "execute_result"
    },
    {
     "data": {
      "image/png": "[encoded data removed]",
      "text/plain": [
       "<Figure size 432x288 with 1 Axes>"
      ]
     },
     "metadata": {
      "needs_background": "light"
     },
     "output_type": "display_data"
    }
   ],
   "source": [
    "plt.scatter(prediction,y_test)"
   ]
  },
  {
   "cell_type": "code",
   "execution_count": 124,
   "id": "d02820ae",
   "metadata": {},
   "outputs": [
    {
     "data": {
      "text/plain": [
       "0.12376392004426097"
      ]
     },
     "execution_count": 124,
     "metadata": {},
     "output_type": "execute_result"
    }
   ],
   "source": [
    "metrics.mean_absolute_error(prediction,y_test)"
   ]
  },
  {
   "cell_type": "code",
   "execution_count": 125,
   "id": "f0ed251c",
   "metadata": {},
   "outputs": [
    {
     "data": {
      "text/plain": [
       "0.03398041867924089"
      ]
     },
     "execution_count": 125,
     "metadata": {},
     "output_type": "execute_result"
    }
   ],
   "source": [
    "metrics.mean_squared_error(prediction,y_test)"
   ]
  },
  {
   "cell_type": "markdown",
   "id": "a80d3ffd",
   "metadata": {},
   "source": [
    "# Second: KNeighborsRegressor"
   ]
  },
  {
   "cell_type": "markdown",
   "id": "f7318c39",
   "metadata": {},
   "source": [
    "I know that this model won't work well because it is for non-linear data but I will use it :)"
   ]
  },
  {
   "cell_type": "code",
   "execution_count": 126,
   "id": "db221e0b",
   "metadata": {},
   "outputs": [],
   "source": [
    "from sklearn.neighbors import KNeighborsRegressor"
   ]
  },
  {
   "cell_type": "code",
   "execution_count": 128,
   "id": "1a94575c",
   "metadata": {},
   "outputs": [],
   "source": [
    "knnr=KNeighborsRegressor()"
   ]
  },
  {
   "cell_type": "code",
   "execution_count": 129,
   "id": "50c4519e",
   "metadata": {},
   "outputs": [
    {
     "data": {
      "text/plain": [
       "KNeighborsRegressor()"
      ]
     },
     "execution_count": 129,
     "metadata": {},
     "output_type": "execute_result"
    }
   ],
   "source": [
    "knnr.fit(x_train,y_train)"
   ]
  },
  {
   "cell_type": "code",
   "execution_count": 130,
   "id": "ed88033e",
   "metadata": {},
   "outputs": [],
   "source": [
    "predic_knnr=knnr.predict(x_test)"
   ]
  },
  {
   "cell_type": "markdown",
   "id": "59d5c6c8",
   "metadata": {},
   "source": [
    "# Evaluating KNN"
   ]
  },
  {
   "cell_type": "markdown",
   "id": "1148eadd",
   "metadata": {},
   "source": [
    "As we see the model is not perfect and we totally break the linear relation between parameters\n",
    "\n",
    "**So** we messed up everything"
   ]
  },
  {
   "cell_type": "code",
   "execution_count": 131,
   "id": "c3f6b090",
   "metadata": {},
   "outputs": [
    {
     "data": {
      "text/plain": [
       "<matplotlib.collections.PathCollection at 0x10e5f658>"
      ]
     },
     "execution_count": 131,
     "metadata": {},
     "output_type": "execute_result"
    },
    {
     "data": {
      "image/png": "[encoded data removed]",
      "text/plain": [
       "<Figure size 432x288 with 1 Axes>"
      ]
     },
     "metadata": {
      "needs_background": "light"
     },
     "output_type": "display_data"
    }
   ],
   "source": [
    "plt.scatter(predic_knnr,y_test)"
   ]
  },
  {
   "cell_type": "code",
   "execution_count": 133,
   "id": "0cc3abf9",
   "metadata": {
    "scrolled": true
   },
   "outputs": [
    {
     "data": {
      "text/plain": [
       "4.846773255088496"
      ]
     },
     "execution_count": 133,
     "metadata": {},
     "output_type": "execute_result"
    }
   ],
   "source": [
    "metrics.mean_absolute_error(predic_knnr,y_test)"
   ]
  },
  {
   "cell_type": "markdown",
   "id": "946bbaf8",
   "metadata": {},
   "source": [
    "**AS A CONCLIDION** \n",
    "\n",
    "This was a usuall dataset with a predictive relation(because the price is an independent parameter) we had a good linear relation so linear-regression(prejudged from the name) is the best chois for us"
   ]
  }
 ],
 "metadata": {
  "kernelspec": {
   "display_name": "Python 3 (ipykernel)",
   "language": "python",
   "name": "python3"
  },
  "language_info": {
   "codemirror_mode": {
    "name": "ipython",
    "version": 3
   },
   "file_extension": ".py",
   "mimetype": "text/x-python",
   "name": "python",
   "nbconvert_exporter": "python",
   "pygments_lexer": "ipython3",
   "version": "3.9.7"
  }
 },
 "nbformat": 4,
 "nbformat_minor": 5
}
